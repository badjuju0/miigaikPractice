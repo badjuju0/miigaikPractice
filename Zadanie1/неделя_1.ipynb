{
  "cells": [
    {
      "cell_type": "markdown",
      "metadata": {
        "id": "view-in-github",
        "colab_type": "text"
      },
      "source": [
        "<a href=\"https://colab.research.google.com/github/badjuju0/miigaikPractice/blob/main/%D0%BD%D0%B5%D0%B4%D0%B5%D0%BB%D1%8F_1.ipynb\" target=\"_parent\"><img src=\"https://colab.research.google.com/assets/colab-badge.svg\" alt=\"Open In Colab\"/></a>"
      ]
    },
    {
      "cell_type": "markdown",
      "metadata": {
        "id": "cA8Dhu5_jdRV"
      },
      "source": [
        "# Неделя 1. Визуализация данных\n",
        "То, что вы видите перед собой - это **Jupyter Notebook**, такой специальный интерактивный блокнот, который содержит и текст с оформлением и фрагменты кода, при запуске любого из которых под ним появится блок с результатами выполнения.\n",
        "Почитать подробнее об этой технологии можно вот здесь: https://webdevblog.ru/jupyter-notebook-dlya-nachinajushhih-uchebnik/\n",
        "В строке браузера вы видите адрес jupyter-сервера, который настроен для выполнения этих заданий. Однако, если у вас есть потребность, вы можете загрузить сам файл с расширением .ipynb и в другие программы и веб-сервисы для работы с таким форматом. Выполнение заданий возможно в любой удобной вам среде."
      ]
    },
    {
      "cell_type": "markdown",
      "metadata": {
        "scrolled": true,
        "id": "qje3291EjdRW"
      },
      "source": [
        "## Подготовительные действия\n",
        "### Установка библиотеки\n",
        "Если среда выполнения не содержит нужной вам библиотеки, необходимо установить ее с помощью команды **pip install**\n",
        "Это действие достаточно  выполнить один раз за активный сеанс, поэтому и описывается оно только в одном блоке кода.\n",
        "Для выполнения этого задания нам понадобятся библиотеки:\n",
        "- **pandas** для парсинга и обработки набора открытых данных в формате csv;\n",
        "- **geopy** для подсчета расстояний между точками в пространстве.\n",
        "\n",
        "[Подробнее про pandas](https://proglib.io/p/samouchitel-po-pandas-dlya-nachinayushchih-chast-25-osnovy-analiza-dannyh-s-pandas-2023-07-24)\n",
        "\n",
        "\n"
      ]
    },
    {
      "cell_type": "code",
      "execution_count": null,
      "metadata": {
        "editable": true,
        "scrolled": true,
        "tags": [],
        "colab": {
          "base_uri": "https://localhost:8080/"
        },
        "id": "z9gPD89VjdRW",
        "outputId": "6fc07953-7442-44a2-d6ef-ce59c13024ba"
      },
      "outputs": [
        {
          "output_type": "stream",
          "name": "stdout",
          "text": [
            "Requirement already satisfied: pandas in /usr/local/lib/python3.12/dist-packages (2.2.2)\n",
            "Requirement already satisfied: numpy>=1.26.0 in /usr/local/lib/python3.12/dist-packages (from pandas) (2.0.2)\n",
            "Requirement already satisfied: python-dateutil>=2.8.2 in /usr/local/lib/python3.12/dist-packages (from pandas) (2.9.0.post0)\n",
            "Requirement already satisfied: pytz>=2020.1 in /usr/local/lib/python3.12/dist-packages (from pandas) (2025.2)\n",
            "Requirement already satisfied: tzdata>=2022.7 in /usr/local/lib/python3.12/dist-packages (from pandas) (2025.2)\n",
            "Requirement already satisfied: six>=1.5 in /usr/local/lib/python3.12/dist-packages (from python-dateutil>=2.8.2->pandas) (1.17.0)\n"
          ]
        }
      ],
      "source": [
        "!pip3 install pandas"
      ]
    },
    {
      "cell_type": "code",
      "source": [
        "!pip3 install geopy"
      ],
      "metadata": {
        "colab": {
          "base_uri": "https://localhost:8080/"
        },
        "id": "b-xuo-PBPJ3V",
        "outputId": "1d58d55a-3516-4dbb-bbc8-801280f2a6d9"
      },
      "execution_count": null,
      "outputs": [
        {
          "output_type": "stream",
          "name": "stdout",
          "text": [
            "Requirement already satisfied: geopy in /usr/local/lib/python3.12/dist-packages (2.4.1)\n",
            "Requirement already satisfied: geographiclib<3,>=1.52 in /usr/local/lib/python3.12/dist-packages (from geopy) (2.1)\n"
          ]
        }
      ]
    },
    {
      "cell_type": "markdown",
      "metadata": {
        "editable": true,
        "raw_mimetype": "",
        "tags": [],
        "id": "H4NTcopojdRX"
      },
      "source": [
        "### Подключение модуля и парсинг файла\n",
        "Подключить установленный ранее (или стандартный) модуль можно с помощью инструкции **import**.\n",
        "Модули подключаются в самом начале кода.\n",
        "\n",
        "Для работы с данными будем использовать библиотеку **pandas**. В файле *Rus_schools_final.csv* находятся открытые данные о разных школах в РФ.\n",
        "\n",
        "Прочитайте комментарии и код в следующем фрагменте и попробуйте запустить его, чтоб понять, как он работает."
      ]
    },
    {
      "cell_type": "code",
      "source": [
        "# Импортируем библиотеки\n",
        "import pyproj\n",
        "import pandas as pd\n",
        "\n",
        "\n",
        "# Парсим интересующий нас xml-файл\n",
        "df = pd.read_csv('Rus_schools_final.csv', encoding = 'windows-1251')\n",
        "\n",
        "# Для понимания структуры файла выводим заголовки\n",
        "df.head()"
      ],
      "metadata": {
        "colab": {
          "base_uri": "https://localhost:8080/",
          "height": 591
        },
        "id": "8rWYEiiPMxZO",
        "outputId": "c484e441-acef-496e-a5be-c35a59968b67"
      },
      "execution_count": null,
      "outputs": [
        {
          "output_type": "execute_result",
          "data": {
            "text/plain": [
              "   Unnamed: 0                                               name  \\\n",
              "0           0  Муниципальное общеобразовательное учреждение \"...   \n",
              "1           1  Муниципальная образовательная школа-интернат \"...   \n",
              "2           2  Муниципальное учреждение образования для детей...   \n",
              "3           3  Муниципальное общеобразовательное учреждение \"...   \n",
              "4           4  Специальное (коррекционное)образовательное учр...   \n",
              "\n",
              "                                         struct  \\\n",
              "0    (Муниципальное образовательное учреждение)   \n",
              "1    (Муниципальное образовательное учреждение)   \n",
              "2    (Муниципальное образовательное учреждение)   \n",
              "3    (Муниципальное образовательное учреждение)   \n",
              "4  (Государственное образовательное учреждение)   \n",
              "\n",
              "                                                addr       lat       lon  \n",
              "0  420087, Республика Татарстан, г. Казань, ул.Ри...  55.76370  49.18172  \n",
              "1  420103, Республика Татарстан, г. Казань, ул.Че...  55.82440  49.12312  \n",
              "2  420100, Республика Татарстан, г. Казань, ул. Ю...  55.74462  49.20560  \n",
              "3   420011, Республика Татарстан, г. Казань, Ферма-2  55.71716  49.16222  \n",
              "4  420036, Республика Татарстан, г. Казань, ул.Ти...  55.84911  49.07660  "
            ],
            "text/html": [
              "\n",
              "  <div id=\"df-8bda76c7-4316-42db-939c-44472a8597ed\" class=\"colab-df-container\">\n",
              "    <div>\n",
              "<style scoped>\n",
              "    .dataframe tbody tr th:only-of-type {\n",
              "        vertical-align: middle;\n",
              "    }\n",
              "\n",
              "    .dataframe tbody tr th {\n",
              "        vertical-align: top;\n",
              "    }\n",
              "\n",
              "    .dataframe thead th {\n",
              "        text-align: right;\n",
              "    }\n",
              "</style>\n",
              "<table border=\"1\" class=\"dataframe\">\n",
              "  <thead>\n",
              "    <tr style=\"text-align: right;\">\n",
              "      <th></th>\n",
              "      <th>Unnamed: 0</th>\n",
              "      <th>name</th>\n",
              "      <th>struct</th>\n",
              "      <th>addr</th>\n",
              "      <th>lat</th>\n",
              "      <th>lon</th>\n",
              "    </tr>\n",
              "  </thead>\n",
              "  <tbody>\n",
              "    <tr>\n",
              "      <th>0</th>\n",
              "      <td>0</td>\n",
              "      <td>Муниципальное общеобразовательное учреждение \"...</td>\n",
              "      <td>(Муниципальное образовательное учреждение)</td>\n",
              "      <td>420087, Республика Татарстан, г. Казань, ул.Ри...</td>\n",
              "      <td>55.76370</td>\n",
              "      <td>49.18172</td>\n",
              "    </tr>\n",
              "    <tr>\n",
              "      <th>1</th>\n",
              "      <td>1</td>\n",
              "      <td>Муниципальная образовательная школа-интернат \"...</td>\n",
              "      <td>(Муниципальное образовательное учреждение)</td>\n",
              "      <td>420103, Республика Татарстан, г. Казань, ул.Че...</td>\n",
              "      <td>55.82440</td>\n",
              "      <td>49.12312</td>\n",
              "    </tr>\n",
              "    <tr>\n",
              "      <th>2</th>\n",
              "      <td>2</td>\n",
              "      <td>Муниципальное учреждение образования для детей...</td>\n",
              "      <td>(Муниципальное образовательное учреждение)</td>\n",
              "      <td>420100, Республика Татарстан, г. Казань, ул. Ю...</td>\n",
              "      <td>55.74462</td>\n",
              "      <td>49.20560</td>\n",
              "    </tr>\n",
              "    <tr>\n",
              "      <th>3</th>\n",
              "      <td>3</td>\n",
              "      <td>Муниципальное общеобразовательное учреждение \"...</td>\n",
              "      <td>(Муниципальное образовательное учреждение)</td>\n",
              "      <td>420011, Республика Татарстан, г. Казань, Ферма-2</td>\n",
              "      <td>55.71716</td>\n",
              "      <td>49.16222</td>\n",
              "    </tr>\n",
              "    <tr>\n",
              "      <th>4</th>\n",
              "      <td>4</td>\n",
              "      <td>Специальное (коррекционное)образовательное учр...</td>\n",
              "      <td>(Государственное образовательное учреждение)</td>\n",
              "      <td>420036, Республика Татарстан, г. Казань, ул.Ти...</td>\n",
              "      <td>55.84911</td>\n",
              "      <td>49.07660</td>\n",
              "    </tr>\n",
              "  </tbody>\n",
              "</table>\n",
              "</div>\n",
              "    <div class=\"colab-df-buttons\">\n",
              "\n",
              "  <div class=\"colab-df-container\">\n",
              "    <button class=\"colab-df-convert\" onclick=\"convertToInteractive('df-8bda76c7-4316-42db-939c-44472a8597ed')\"\n",
              "            title=\"Convert this dataframe to an interactive table.\"\n",
              "            style=\"display:none;\">\n",
              "\n",
              "  <svg xmlns=\"http://www.w3.org/2000/svg\" height=\"24px\" viewBox=\"0 -960 960 960\">\n",
              "    <path d=\"M120-120v-720h720v720H120Zm60-500h600v-160H180v160Zm220 220h160v-160H400v160Zm0 220h160v-160H400v160ZM180-400h160v-160H180v160Zm440 0h160v-160H620v160ZM180-180h160v-160H180v160Zm440 0h160v-160H620v160Z\"/>\n",
              "  </svg>\n",
              "    </button>\n",
              "\n",
              "  <style>\n",
              "    .colab-df-container {\n",
              "      display:flex;\n",
              "      gap: 12px;\n",
              "    }\n",
              "\n",
              "    .colab-df-convert {\n",
              "      background-color: #E8F0FE;\n",
              "      border: none;\n",
              "      border-radius: 50%;\n",
              "      cursor: pointer;\n",
              "      display: none;\n",
              "      fill: #1967D2;\n",
              "      height: 32px;\n",
              "      padding: 0 0 0 0;\n",
              "      width: 32px;\n",
              "    }\n",
              "\n",
              "    .colab-df-convert:hover {\n",
              "      background-color: #E2EBFA;\n",
              "      box-shadow: 0px 1px 2px rgba(60, 64, 67, 0.3), 0px 1px 3px 1px rgba(60, 64, 67, 0.15);\n",
              "      fill: #174EA6;\n",
              "    }\n",
              "\n",
              "    .colab-df-buttons div {\n",
              "      margin-bottom: 4px;\n",
              "    }\n",
              "\n",
              "    [theme=dark] .colab-df-convert {\n",
              "      background-color: #3B4455;\n",
              "      fill: #D2E3FC;\n",
              "    }\n",
              "\n",
              "    [theme=dark] .colab-df-convert:hover {\n",
              "      background-color: #434B5C;\n",
              "      box-shadow: 0px 1px 3px 1px rgba(0, 0, 0, 0.15);\n",
              "      filter: drop-shadow(0px 1px 2px rgba(0, 0, 0, 0.3));\n",
              "      fill: #FFFFFF;\n",
              "    }\n",
              "  </style>\n",
              "\n",
              "    <script>\n",
              "      const buttonEl =\n",
              "        document.querySelector('#df-8bda76c7-4316-42db-939c-44472a8597ed button.colab-df-convert');\n",
              "      buttonEl.style.display =\n",
              "        google.colab.kernel.accessAllowed ? 'block' : 'none';\n",
              "\n",
              "      async function convertToInteractive(key) {\n",
              "        const element = document.querySelector('#df-8bda76c7-4316-42db-939c-44472a8597ed');\n",
              "        const dataTable =\n",
              "          await google.colab.kernel.invokeFunction('convertToInteractive',\n",
              "                                                    [key], {});\n",
              "        if (!dataTable) return;\n",
              "\n",
              "        const docLinkHtml = 'Like what you see? Visit the ' +\n",
              "          '<a target=\"_blank\" href=https://colab.research.google.com/notebooks/data_table.ipynb>data table notebook</a>'\n",
              "          + ' to learn more about interactive tables.';\n",
              "        element.innerHTML = '';\n",
              "        dataTable['output_type'] = 'display_data';\n",
              "        await google.colab.output.renderOutput(dataTable, element);\n",
              "        const docLink = document.createElement('div');\n",
              "        docLink.innerHTML = docLinkHtml;\n",
              "        element.appendChild(docLink);\n",
              "      }\n",
              "    </script>\n",
              "  </div>\n",
              "\n",
              "\n",
              "    <div id=\"df-83a3baa6-e011-492b-92e0-e7f7377accaa\">\n",
              "      <button class=\"colab-df-quickchart\" onclick=\"quickchart('df-83a3baa6-e011-492b-92e0-e7f7377accaa')\"\n",
              "                title=\"Suggest charts\"\n",
              "                style=\"display:none;\">\n",
              "\n",
              "<svg xmlns=\"http://www.w3.org/2000/svg\" height=\"24px\"viewBox=\"0 0 24 24\"\n",
              "     width=\"24px\">\n",
              "    <g>\n",
              "        <path d=\"M19 3H5c-1.1 0-2 .9-2 2v14c0 1.1.9 2 2 2h14c1.1 0 2-.9 2-2V5c0-1.1-.9-2-2-2zM9 17H7v-7h2v7zm4 0h-2V7h2v10zm4 0h-2v-4h2v4z\"/>\n",
              "    </g>\n",
              "</svg>\n",
              "      </button>\n",
              "\n",
              "<style>\n",
              "  .colab-df-quickchart {\n",
              "      --bg-color: #E8F0FE;\n",
              "      --fill-color: #1967D2;\n",
              "      --hover-bg-color: #E2EBFA;\n",
              "      --hover-fill-color: #174EA6;\n",
              "      --disabled-fill-color: #AAA;\n",
              "      --disabled-bg-color: #DDD;\n",
              "  }\n",
              "\n",
              "  [theme=dark] .colab-df-quickchart {\n",
              "      --bg-color: #3B4455;\n",
              "      --fill-color: #D2E3FC;\n",
              "      --hover-bg-color: #434B5C;\n",
              "      --hover-fill-color: #FFFFFF;\n",
              "      --disabled-bg-color: #3B4455;\n",
              "      --disabled-fill-color: #666;\n",
              "  }\n",
              "\n",
              "  .colab-df-quickchart {\n",
              "    background-color: var(--bg-color);\n",
              "    border: none;\n",
              "    border-radius: 50%;\n",
              "    cursor: pointer;\n",
              "    display: none;\n",
              "    fill: var(--fill-color);\n",
              "    height: 32px;\n",
              "    padding: 0;\n",
              "    width: 32px;\n",
              "  }\n",
              "\n",
              "  .colab-df-quickchart:hover {\n",
              "    background-color: var(--hover-bg-color);\n",
              "    box-shadow: 0 1px 2px rgba(60, 64, 67, 0.3), 0 1px 3px 1px rgba(60, 64, 67, 0.15);\n",
              "    fill: var(--button-hover-fill-color);\n",
              "  }\n",
              "\n",
              "  .colab-df-quickchart-complete:disabled,\n",
              "  .colab-df-quickchart-complete:disabled:hover {\n",
              "    background-color: var(--disabled-bg-color);\n",
              "    fill: var(--disabled-fill-color);\n",
              "    box-shadow: none;\n",
              "  }\n",
              "\n",
              "  .colab-df-spinner {\n",
              "    border: 2px solid var(--fill-color);\n",
              "    border-color: transparent;\n",
              "    border-bottom-color: var(--fill-color);\n",
              "    animation:\n",
              "      spin 1s steps(1) infinite;\n",
              "  }\n",
              "\n",
              "  @keyframes spin {\n",
              "    0% {\n",
              "      border-color: transparent;\n",
              "      border-bottom-color: var(--fill-color);\n",
              "      border-left-color: var(--fill-color);\n",
              "    }\n",
              "    20% {\n",
              "      border-color: transparent;\n",
              "      border-left-color: var(--fill-color);\n",
              "      border-top-color: var(--fill-color);\n",
              "    }\n",
              "    30% {\n",
              "      border-color: transparent;\n",
              "      border-left-color: var(--fill-color);\n",
              "      border-top-color: var(--fill-color);\n",
              "      border-right-color: var(--fill-color);\n",
              "    }\n",
              "    40% {\n",
              "      border-color: transparent;\n",
              "      border-right-color: var(--fill-color);\n",
              "      border-top-color: var(--fill-color);\n",
              "    }\n",
              "    60% {\n",
              "      border-color: transparent;\n",
              "      border-right-color: var(--fill-color);\n",
              "    }\n",
              "    80% {\n",
              "      border-color: transparent;\n",
              "      border-right-color: var(--fill-color);\n",
              "      border-bottom-color: var(--fill-color);\n",
              "    }\n",
              "    90% {\n",
              "      border-color: transparent;\n",
              "      border-bottom-color: var(--fill-color);\n",
              "    }\n",
              "  }\n",
              "</style>\n",
              "\n",
              "      <script>\n",
              "        async function quickchart(key) {\n",
              "          const quickchartButtonEl =\n",
              "            document.querySelector('#' + key + ' button');\n",
              "          quickchartButtonEl.disabled = true;  // To prevent multiple clicks.\n",
              "          quickchartButtonEl.classList.add('colab-df-spinner');\n",
              "          try {\n",
              "            const charts = await google.colab.kernel.invokeFunction(\n",
              "                'suggestCharts', [key], {});\n",
              "          } catch (error) {\n",
              "            console.error('Error during call to suggestCharts:', error);\n",
              "          }\n",
              "          quickchartButtonEl.classList.remove('colab-df-spinner');\n",
              "          quickchartButtonEl.classList.add('colab-df-quickchart-complete');\n",
              "        }\n",
              "        (() => {\n",
              "          let quickchartButtonEl =\n",
              "            document.querySelector('#df-83a3baa6-e011-492b-92e0-e7f7377accaa button');\n",
              "          quickchartButtonEl.style.display =\n",
              "            google.colab.kernel.accessAllowed ? 'block' : 'none';\n",
              "        })();\n",
              "      </script>\n",
              "    </div>\n",
              "    </div>\n",
              "  </div>\n"
            ],
            "application/vnd.google.colaboratory.intrinsic+json": {
              "type": "dataframe",
              "variable_name": "df",
              "summary": "{\n  \"name\": \"df\",\n  \"rows\": 42581,\n  \"fields\": [\n    {\n      \"column\": \"Unnamed: 0\",\n      \"properties\": {\n        \"dtype\": \"number\",\n        \"std\": 12292,\n        \"min\": 0,\n        \"max\": 42580,\n        \"num_unique_values\": 42581,\n        \"samples\": [\n          10583,\n          29738,\n          8713\n        ],\n        \"semantic_type\": \"\",\n        \"description\": \"\"\n      }\n    },\n    {\n      \"column\": \"name\",\n      \"properties\": {\n        \"dtype\": \"string\",\n        \"num_unique_values\": 35663,\n        \"samples\": [\n          \"\\u041c\\u0443\\u043d\\u0438\\u0446\\u0438\\u043f\\u0430\\u043b\\u044c\\u043d\\u043e\\u0435 \\u043e\\u0431\\u0440\\u0430\\u0437\\u043e\\u0432\\u0430\\u0442\\u0435\\u043b\\u044c\\u043d\\u043e\\u0435 \\u0443\\u0447\\u0440\\u0435\\u0436\\u0434\\u0435\\u043d\\u0438\\u0435 \\u0441\\u0440\\u0435\\u0434\\u043d\\u044f\\u044f \\u043e\\u0431\\u0449\\u0435\\u043e\\u0431\\u0440\\u0430\\u0437\\u043e\\u0432\\u0430\\u0442\\u0435\\u043b\\u044c\\u043d\\u0430\\u044f \\u0448\\u043a\\u043e\\u043b\\u0430 \\u2116 4 , \\u0433. \\u041f\\u0435\\u0442\\u0440\\u043e\\u0432\\u0441\\u043a-\\u0417\\u0430\\u0431\\u0430\\u0439\\u043a\\u0430\\u043b\\u044c\\u0441\\u043a\\u0438\\u0439\",\n          \"\\u041c\\u0443\\u043d\\u0438\\u0446\\u0438\\u043f\\u0430\\u043b\\u044c\\u043d\\u043e\\u0435 \\u043e\\u0431\\u0449\\u0435\\u043e\\u0431\\u0440\\u0430\\u0437\\u043e\\u0432\\u0430\\u0442\\u0435\\u043b\\u044c\\u043d\\u043e\\u0435 \\u0443\\u0447\\u0440\\u0435\\u0436\\u0434\\u0435\\u043d\\u0438\\u0435 \\u043e\\u0441\\u043d\\u043e\\u0432\\u043d\\u0430\\u044f \\u043e\\u0431\\u0449\\u0435\\u043e\\u0431\\u0440\\u0430\\u0437\\u043e\\u0432\\u0430\\u0442\\u0435\\u043b\\u044c\\u043d\\u0430\\u044f \\u0448\\u043a\\u043e\\u043b\\u0430 \\u043f.\\u0410\\u043b\\u0435\\u043a\\u0441\\u0430\\u043d\\u0434\\u0440\\u043e\\u0432\\u043a\\u0430\",\n          \"\\u0413\\u043e\\u0441\\u0443\\u0434\\u0430\\u0440\\u0441\\u0442\\u0432\\u0435\\u043d\\u043d\\u043e\\u0435 \\u043e\\u0431\\u0440\\u0430\\u0437\\u043e\\u0432\\u0430\\u0442\\u0435\\u043b\\u044c\\u043d\\u043e\\u0435 \\u0443\\u0447\\u0440\\u0435\\u0436\\u0434\\u0435\\u043d\\u0438\\u0435 \\u0434\\u043b\\u044f \\u0434\\u0435\\u0442\\u0435\\u0439-\\u0441\\u0438\\u0440\\u043e\\u0442 \\u0438 \\u0434\\u0435\\u0442\\u0435\\u0439, \\u043e\\u0441\\u0442\\u0430\\u0432\\u0448\\u0438\\u0445\\u0441\\u044f \\u0431\\u0435\\u0437 \\u043f\\u043e\\u043f\\u0435\\u0447\\u0435\\u043d\\u0438\\u044f \\u0440\\u043e\\u0434\\u0438\\u0442\\u0435\\u043b\\u0435\\u0439, \\u0421\\u0430\\u0445\\u0430\\u043b\\u0438\\u043d\\u0441\\u043a\\u043e\\u0439 \\u043e\\u0431\\u043b\\u0430\\u0441\\u0442\\u0438 \\\"\\u0421\\u043f\\u0435\\u0446\\u0438\\u0430\\u043b\\u044c\\u043d\\u0430\\u044f (\\u043a\\u043e\\u0440\\u0440\\u0435\\u043a\\u0446\\u0438\\u043e\\u043d\\u043d\\u0430\\u044f) \\u0448\\u043a\\u043e\\u043b\\u0430-\\u0438\\u043d\\u0442\\u0435\\u0440\\u043d\\u0430\\u0442 \\u2116 3 \\u0434\\u043b\\u044f \\u0434\\u0435\\u0442\\u0435\\u0439 \\u0441 \\u043e\\u0442\\u043a\\u043b\\u043e\\u043d\\u0435\\u043d\\u0438\\u044f\\u043c\\u0438 \\u0432 \\u0440\\u0430\\u0437\\u0432\\u0438\\u0442\\u0438\\u0438 VIII \\u0432\\u0438\\u0434\\u0430\\\" (\\u0441\\u0432-\\u0432\\u043e \\u043e \\u0433\\u043e\\u0441. \\u0430\\u043a\\u043a\\u0440\\u0435\\u0434\\u0438\\u0442. \\u0410\\u0410 1159\"\n        ],\n        \"semantic_type\": \"\",\n        \"description\": \"\"\n      }\n    },\n    {\n      \"column\": \"struct\",\n      \"properties\": {\n        \"dtype\": \"category\",\n        \"num_unique_values\": 4,\n        \"samples\": [\n          \"(\\u0413\\u043e\\u0441\\u0443\\u0434\\u0430\\u0440\\u0441\\u0442\\u0432\\u0435\\u043d\\u043d\\u043e\\u0435 \\u043e\\u0431\\u0440\\u0430\\u0437\\u043e\\u0432\\u0430\\u0442\\u0435\\u043b\\u044c\\u043d\\u043e\\u0435 \\u0443\\u0447\\u0440\\u0435\\u0436\\u0434\\u0435\\u043d\\u0438\\u0435)\",\n          \"(\\u0412\\u0435\\u0434\\u043e\\u043c\\u0441\\u0442\\u0432\\u0435\\u043d\\u043d\\u043e\\u0435 \\u043e\\u0431\\u0440\\u0430\\u0437\\u043e\\u0432\\u0430\\u0442\\u0435\\u043b\\u044c\\u043d\\u043e\\u0435 \\u0443\\u0447\\u0440\\u0435\\u0436\\u0434\\u0435\\u043d\\u0438\\u0435)\",\n          \"(\\u041c\\u0443\\u043d\\u0438\\u0446\\u0438\\u043f\\u0430\\u043b\\u044c\\u043d\\u043e\\u0435 \\u043e\\u0431\\u0440\\u0430\\u0437\\u043e\\u0432\\u0430\\u0442\\u0435\\u043b\\u044c\\u043d\\u043e\\u0435 \\u0443\\u0447\\u0440\\u0435\\u0436\\u0434\\u0435\\u043d\\u0438\\u0435)\"\n        ],\n        \"semantic_type\": \"\",\n        \"description\": \"\"\n      }\n    },\n    {\n      \"column\": \"addr\",\n      \"properties\": {\n        \"dtype\": \"string\",\n        \"num_unique_values\": 42559,\n        \"samples\": [\n          \"650000, \\u041a\\u0435\\u043c\\u0435\\u0440\\u043e\\u0432\\u0441\\u043a\\u0430\\u044f \\u043e\\u0431\\u043b\\u0430\\u0441\\u0442\\u044c, \\u0433. \\u041a\\u0435\\u043c\\u0435\\u0440\\u043e\\u0432\\u043e, \\u0443\\u043b. \\u041a\\u0440\\u0430\\u0441\\u043d\\u0430\\u044f, 23\",\n          \"150018 , \\u0433. \\u042f\\u0440\\u043e\\u0441\\u043b\\u0430\\u0432\\u043b\\u044c, \\u0443\\u043b.\\u0414\\u0435\\u043c\\u044c\\u044f\\u043d\\u0430 \\u0411\\u0435\\u0434\\u043d\\u043e\\u0433\\u043e, \\u0434.54\",\n          \"152900, \\u042f\\u0440\\u043e\\u0441\\u043b\\u0430\\u0432\\u0441\\u043a\\u0430\\u044f \\u043e\\u0431\\u043b\\u0430\\u0441\\u0442\\u044c, \\u0433. \\u0420\\u044b\\u0431\\u0438\\u043d\\u0441\\u043a, \\u0443\\u043b.\\u042f\\u0440\\u043e\\u0441\\u043b\\u0430\\u0432\\u0441\\u043a\\u0438\\u044f \\u0442\\u0440\\u0430\\u043a\\u0442, 43\"\n        ],\n        \"semantic_type\": \"\",\n        \"description\": \"\"\n      }\n    },\n    {\n      \"column\": \"lat\",\n      \"properties\": {\n        \"dtype\": \"number\",\n        \"std\": 4.456710278454351,\n        \"min\": 41.28407,\n        \"max\": 73.5094,\n        \"num_unique_values\": 40293,\n        \"samples\": [\n          59.70156,\n          57.93617,\n          55.88765\n        ],\n        \"semantic_type\": \"\",\n        \"description\": \"\"\n      }\n    },\n    {\n      \"column\": \"lon\",\n      \"properties\": {\n        \"dtype\": \"number\",\n        \"std\": 25.282347385471695,\n        \"min\": 19.88188,\n        \"max\": 179.4798,\n        \"num_unique_values\": 40723,\n        \"samples\": [\n          43.66699,\n          84.94868,\n          38.2482199\n        ],\n        \"semantic_type\": \"\",\n        \"description\": \"\"\n      }\n    }\n  ]\n}"
            }
          },
          "metadata": {},
          "execution_count": 11
        }
      ]
    },
    {
      "cell_type": "markdown",
      "source": [
        "## Работа с расстояниями в geopy\n",
        "В следующем блоке кода продемонстрировано, как можно посчитать расстояние между двух точек, и как можно найти ближайшую точку из множества."
      ],
      "metadata": {
        "id": "sxNYht2IRGPV"
      }
    },
    {
      "cell_type": "markdown",
      "source": [],
      "metadata": {
        "id": "oikb2p0ZRBm3"
      }
    },
    {
      "cell_type": "code",
      "source": [
        "from geopy.distance import geodesic\n",
        "\n",
        "# Заданные координаты двух точек\n",
        "point_a = (55.7558, 37.6173)  # Москва\n",
        "point_b = (59.9391, 30.3158)   # Санкт-Петербург\n",
        "\n",
        "# Вычисляем расстояние между точками\n",
        "distance = geodesic(point_a, point_b).kilometers\n",
        "print(f'Расстояние между Москвой и Санкт-Петербургом: {distance:.2f} км')\n",
        "\n",
        "# Массив координат для нахождения ближайшей точки\n",
        "points_array = [\n",
        "    (55.7558, 37.6173),  # Москва\n",
        "    (59.9391, 30.3158),  # Санкт-Петербург\n",
        "    (53.9025, 27.5614),  # Минск\n",
        "    (48.8566, 2.3522),   # Париж\n",
        "]\n",
        "\n",
        "# Координаты исходной точки\n",
        "target_point = (55.7558, 37.6173)\n",
        "print(f\"Исходная точка: {target_point}\")\n",
        "\n",
        "# Нахождение ближайшей точки из массива\n",
        "closest_point = min(points_array, key=lambda p: geodesic(target_point, p))\n",
        "print(f\"Ближайшая точка к исходной: {closest_point}\")"
      ],
      "metadata": {
        "colab": {
          "base_uri": "https://localhost:8080/"
        },
        "id": "El3pkbyKQgiS",
        "outputId": "f0a450ac-b671-473e-808a-22909ba2972a"
      },
      "execution_count": null,
      "outputs": [
        {
          "output_type": "stream",
          "name": "stdout",
          "text": [
            "Расстояние между Москвой и Санкт-Петербургом: 635.75 км\n",
            "Исходная точка: (55.7558, 37.6173)\n",
            "Ближайшая точка к исходной: (55.7558, 37.6173)\n"
          ]
        }
      ]
    },
    {
      "cell_type": "markdown",
      "source": [
        "# Примеры кода для обработки данных о школах\n",
        "Посчитаем, сколько в наборе данных есть школ с типом \"Муниципальное образовательное учреждение\""
      ],
      "metadata": {
        "id": "GMLaW70LSjab"
      }
    },
    {
      "cell_type": "code",
      "source": [
        "# Импортируем библиотеки\n",
        "import pyproj\n",
        "import pandas as pd\n",
        "\n",
        "\n",
        "# Парсим интересующий нас xml-файл\n",
        "df = pd.read_csv('Rus_schools_final.csv', encoding = 'windows-1251')\n",
        "\n",
        "munic = df.loc[df['struct'] == '(Муниципальное образовательное учреждение)']\n",
        "print(len(munic))"
      ],
      "metadata": {
        "colab": {
          "base_uri": "https://localhost:8080/"
        },
        "id": "CxveN0JiSuPK",
        "outputId": "971e5e30-fd73-42c6-f7d7-eadddddf3541"
      },
      "execution_count": null,
      "outputs": [
        {
          "output_type": "stream",
          "name": "stdout",
          "text": [
            "37567\n"
          ]
        }
      ]
    },
    {
      "cell_type": "markdown",
      "source": [
        "В следующем блоке кода выведем список названий всех школ, расположенных в Качуге (по сведениям из адреса)."
      ],
      "metadata": {
        "id": "oAJPHXSxcHMI"
      }
    },
    {
      "cell_type": "code",
      "source": [
        "# Импортируем библиотеки\n",
        "import pyproj\n",
        "import pandas as pd\n",
        "\n",
        "\n",
        "# Парсим интересующий нас xml-файл\n",
        "df = pd.read_csv('Rus_schools_final.csv', encoding = 'windows-1251')\n",
        "\n",
        "# Фильтрация записей 1\n",
        "mask = df['addr'].str.contains('Качуг', case=False, na=False)\n",
        "\n",
        "\n",
        "# Выбор имени тех записей, которые удовлетворяют условию\n",
        "names = df.loc[mask]['name']\n",
        "\n",
        "# Печать результата\n",
        "for sc_name in names.to_list():\n",
        "  print(sc_name)"
      ],
      "metadata": {
        "colab": {
          "base_uri": "https://localhost:8080/"
        },
        "id": "CiPcugkkT8-_",
        "outputId": "ff53595e-6c64-4159-9a36-43d8eb3556e1"
      },
      "execution_count": null,
      "outputs": [
        {
          "output_type": "stream",
          "name": "stdout",
          "text": [
            "Муниципальное образовательное учреждение Вершино-Тутурская основная общеобразовательная школа\n",
            "Муниципальное образовательное учреждение Качугская средняя общеобразовательная школа № 2\n",
            "Муниципальное образовательное учреждение Чептыхойская начальная общеобразовательная школа\n",
            "Муниципальное образовательное учреждение Качугская средняя общеобразовательная школа № 1\n",
            "Муниципальное образовательное учреждение Чернорудская начальная общеобразовательная школа\n",
            "Муниципальное образовательное учреждение Шейнская начальная общеобразовательная школа\n",
            "Муниципальное образовательное учреждение Щаповская начальная общеобразовательная школа\n",
            "Муниципальное образовательное учреждение Аргунская начальная общеобразовательная школа\n",
            "Муниципальное образовательное учреждение Больше-Тарельская основная общеобразовательная школа\n",
            "Муниципальное образовательное учреждение Косогольская начальная общеобразовательная школа\n",
            "Муниципальное образовательное учреждение Литвиновская начальная общеобразовательная школа\n",
            "Муниципальное образовательное учреждение Мало-Тарельская начальная общеобразовательная школа\n",
            "Муниципальное образовательное учреждение Корсуковская начальная общеобразовательная школа\n",
            "Муниципальное образовательное учреждение Полосковская начальная общеобразовательная школа\n",
            "Муниципальное образовательное учреждение Больше-Головская начальная общеобразовательная школа\n",
            "Муниципальное образовательное учреждение Никилейская начальная общеобразовательная школа\n",
            "Муниципальное образовательное учреждение Ацикякская начальная общеобразовательная школа\n",
            "Муниципальное образовательное учреждение Магданская начальная общеобразовательная школа\n",
            "Муниципальное образовательное учреждение Челпановская начальная общеобразовательная школа\n",
            "Муниципальное образовательное учреждение Тимирязевская начальная общеобразовательная школа\n",
            "Муниципальное образовательное учреждение Красноярская начальная общеобразовательная школа\n",
            "Муниципальное образовательное учреждение Шишкинская начальная общеобразовательная школа\n",
            "Муниципальное образовательное учреждение Алексеевская начальная общеобразовательная школа\n",
            "Муниципальное образовательное учреждение Исетская начальная общеобразовательная школа\n",
            "Муниципальное образовательное учреждение Карлукская начальная общеобразовательная школа\n",
            "Муниципальное образовательное учреждение Верхоленская средняя общеобразовательная школа\n",
            "Муниципальное образовательное учреждение Малоголовская основная общеобразовательная школа\n",
            "Муниципальное образовательное учреждение Манзурская средняя общеобразовательная школа\n",
            "Муниципальное образовательное учреждение Мысовская начальная общеобразовательная школа\n",
            "Муниципальное образовательное учреждение Ангинская средняя общеобразовательная школа\n",
            "Муниципальное образовательное учреждение Бирюльская средняя общеобразовательная школа\n",
            "Муниципальное образовательное учреждение Залогская средняя общеобразовательная школа\n",
            "Муниципальное образовательное учреждение Харбатовская средняя общеобразовательная школа\n",
            "Муниципальное образовательное учреждение Белоусовская основная общеобразовательная школа\n",
            "Муниципальное образовательное учреждение Бутаковская средняя общеобразовательная школа\n",
            "Муниципальное образовательное учреждение Зареченская начальная общеобразовательная школа\n",
            "Муниципальное общеобразовательное учреждение \"Качугская вечерняя (сменная) общеобразовательная школа\"\n"
          ]
        }
      ]
    },
    {
      "cell_type": "markdown",
      "source": [
        "Следующий блок содержит код, который находит и выводит список всех школ в 1 километре от МИИГАиК"
      ],
      "metadata": {
        "id": "aY20SdV5dD2q"
      }
    },
    {
      "cell_type": "code",
      "source": [
        "import pandas as pd\n",
        "from geopy.distance import geodesic\n",
        "\n",
        "# Чтение данных из CSV\n",
        "df = pd.read_csv('Rus_schools_final.csv', encoding = 'windows-1251')\n",
        "\n",
        "# Точка отсчета (МИИГАиК)\n",
        "point_a = (55.7639801784494, 37.66334185235405)\n",
        "\n",
        "# Добавляем столбец distance, содержащий расстояние до точки А\n",
        "def calculate_distance(row):\n",
        "    return geodesic((row['lat'], row['lon']), point_a).kilometers\n",
        "\n",
        "df['distance'] = df.apply(calculate_distance, axis=1)\n",
        "\n",
        "# Фильтруем объекты, находящиеся ближе 1 км\n",
        "filtered_df = df[df['distance'] <= 1]\n",
        "\n",
        "# Извлекаем и имена и типы ближайших объектов\n",
        "results = filtered_df[['name', 'struct']]\n",
        "\n",
        "# Вывод результатов\n",
        "for _,row in results.iterrows():\n",
        "    print(f\"{row['name']} | Тип: {row['struct']}\")"
      ],
      "metadata": {
        "colab": {
          "base_uri": "https://localhost:8080/"
        },
        "id": "9cqa_UXycbGp",
        "outputId": "e76c73f0-c054-4802-d707-5cded0301b9d"
      },
      "execution_count": null,
      "outputs": [
        {
          "output_type": "stream",
          "name": "stdout",
          "text": [
            "Средняя общеобразовательная школа № 320 | Тип: (Государственное образовательное учреждение)\n",
            "Средняя общеобразовательная школа № 613 | Тип: (Государственное образовательное учреждение)\n",
            "Центр образования № 1480 | Тип: (Государственное образовательное учреждение)\n",
            "Открытая (сменная) общеобразовательная школа № 27 | Тип: (Государственное образовательное учреждение)\n",
            "Средняя общеобразовательная школа № 330 | Тип: (Государственное образовательное учреждение)\n",
            "Cредняя общеобразовательная школа с углубленным изучением французского языка № 1225 | Тип: (Государственное образовательное учреждение)\n",
            "ГБОУ Средняя общеобразовательная школа с этнокультурным (еврейским) компонентом образования №1621 \"Лаудер Эц-Хаим\" | Тип: (Государственное образовательное учреждение)\n"
          ]
        }
      ]
    },
    {
      "cell_type": "markdown",
      "source": [
        "А теперь найдем самую дальнюю от МИИГАиК школу в России."
      ],
      "metadata": {
        "id": "_VnFDYTnemMc"
      }
    },
    {
      "cell_type": "code",
      "source": [
        "import pandas as pd\n",
        "from geopy.distance import geodesic\n",
        "\n",
        "# Чтение данных из CSV\n",
        "df = pd.read_csv('Rus_schools_final.csv', encoding = 'windows-1251')\n",
        "\n",
        "# Точка отсчета (МИИГАиК)\n",
        "point_a = (55.7639801784494, 37.66334185235405)\n",
        "\n",
        "# Добавляем столбец distance, содержащий расстояние до точки А\n",
        "def calculate_distance(row):\n",
        "    return geodesic((row['lat'], row['lon']), point_a).kilometers\n",
        "\n",
        "df['distance'] = df.apply(calculate_distance, axis=1)\n",
        "\n",
        "# Найдем дальнейшую школу (школу с максимальным расстоянием)\n",
        "nearest_school_row = df.loc[df['distance'].idxmax()]\n",
        "\n",
        "# Форматируем вывод нужной информации\n",
        "output_string = f\"\"\"\n",
        "Имя школы: {nearest_school_row['name']}\n",
        "Адрес: {nearest_school_row['addr']}\n",
        "Расстояние до школы: {nearest_school_row['distance']:.2f} километров\n",
        "\"\"\"\n",
        "\n",
        "# Выводим информацию о самой близкой школе\n",
        "print(output_string.strip())"
      ],
      "metadata": {
        "colab": {
          "base_uri": "https://localhost:8080/"
        },
        "outputId": "9221a2d3-da6e-4008-90ad-e3a87bc48298",
        "id": "qFZv1JjfepVh"
      },
      "execution_count": null,
      "outputs": [
        {
          "output_type": "stream",
          "name": "stdout",
          "text": [
            "Имя школы: Муниципальное общеобразовательное учреждение средняя общеобразовательная школа с.Крабозаводское Южно-Курильский район, (св-во о гос. аккредит. АА 079500 от 27.12.2002)\n",
            "Адрес: 694500, Россия, Сахалинская область, Южно-Курильский район, с.Крабозаводское, ул.Ключевая, 16\n",
            "Расстояние до школы: 7091.13 километров\n"
          ]
        }
      ]
    },
    {
      "cell_type": "markdown",
      "source": [
        "# Задание для самостоятельной проработки темы\n",
        "После освоения данных интерактивных материалов вам необходимо сделать следующее:\n",
        "1. Внести изменения в последний блок кода:\n",
        "\n",
        "  1.1. Заполнить, используя html теги, заголовок уровня `<h1>` с фразой \"Отчет за 1 неделю ознакомительной практики по разработке программного обеспечения геосервиса\";\n",
        "\n",
        "  1.2. Заполнить подзаголовок уровня `<h2>` \"выполнил:\" с указанием ваших ФИО и группы;\n",
        "  \n",
        "  1.3. Найдите ближайшую к вашему дому школу, и добавьте в вывод все ее характеристики из файла данных;\n",
        "  \n",
        "  1.4. Найдите все школы в радиусе 3 км от вашего дома, в вывод добавьте их название (name) и адреса (addr);\n",
        "\n",
        "  1.5. Добавьте в вывод количество школ с типом(struct) \"Государственное образовательное учреждение\";\n",
        "\n",
        "2. Раскомментировать (убрать в начале строки знак #) строки с сохранением получившегося html в файл;\n",
        "3. Перезапустить последний блок кода;\n",
        "4. Из бокового списка файлов скачать файл \"result.html\" и прикрепить его как ответ на задание в СДО."
      ],
      "metadata": {
        "id": "I_je5_ykB3Be"
      }
    },
    {
      "cell_type": "code",
      "source": [
        "import pandas as pd\n",
        "from geopy.distance import geodesic\n",
        "\n",
        "# Чтение данных из CSV\n",
        "df = pd.read_csv('Rus_schools_final.csv', encoding = 'windows-1251')\n",
        "\n",
        "# Точка отсчета (ваш дом)\n",
        "home = (55.864530, 37.660629)\n",
        "\n",
        "result_html='''<html>\n",
        "    <body>\n",
        "      <h1>Отчет за 1 неделю ознакомительной практики по разработке программного обеспечения геосервиса</h1>\n",
        "      <h2>Выполнил: студент группы 2024-ИСиТ-1см: Горбачев П. А.</h2>'''\n",
        "\n",
        "# здесь вставить выполнение пункта 1.3\n",
        "\n",
        "def calculate_distance(row):\n",
        "    return geodesic((row['lat'], row['lon']), home).kilometers\n",
        "\n",
        "df['distance'] = df.apply(calculate_distance, axis=1)\n",
        "closest_school = df.loc[df['distance'].idxmin()]\n",
        "\n",
        "output_string_1_3 = '<h3>Ближайшая школа к дому:</h3></br>' + closest_school.to_frame().to_html()\n",
        "\n",
        "# записать полученное в 1.3 в конце result_html:\n",
        "\n",
        "result_html = result_html + \"<p>\"+ output_string_1_3 +\"</p>\"\n",
        "\n",
        "# выполнить и дописать в result_html пункты 1.4 и 1.5\n",
        "\n",
        "filtered_df = df[df['distance'] <= 3]\n",
        "schools = '<h3>Школы в радиусе 3 км:</h3><ul>'\n",
        "for _,school in filtered_df.iterrows():\n",
        "  schools=schools+f\"<li>Имя: {school['name']}, адрес: {school['addr']}\\n</li>\"\n",
        "\n",
        "\n",
        "schools = schools+'</ul>'\n",
        "result_html = result_html + schools\n",
        "# 1.5\n",
        "counter = f'<p>Всего школ типа \"Государственное образовательное учреждение\": {filtered_df[df[\"struct\"]==\"(Государственное образовательное учреждение)\"].shape[0]}</p>'\n",
        "\n",
        "\n",
        "result_html = result_html + counter + ('''\n",
        "    </body>\n",
        "</html>''')\n",
        "file_html = open(\"result.html\", \"w\")\n",
        "file_html.write(result_html)\n",
        "file_html.close()"
      ],
      "metadata": {
        "id": "SOj_gr3zB9Fc",
        "colab": {
          "base_uri": "https://localhost:8080/"
        },
        "outputId": "e45dd02a-14b4-465c-fa08-3ba22c4aaea3"
      },
      "execution_count": 3,
      "outputs": [
        {
          "output_type": "stream",
          "name": "stderr",
          "text": [
            "/tmp/ipython-input-4057429396.py:40: UserWarning: Boolean Series key will be reindexed to match DataFrame index.\n",
            "  counter = f'<p>Всего школ типа \"Государственное образовательное учреждение\": {filtered_df[df[\"struct\"]==\"(Государственное образовательное учреждение)\"].shape[0]}</p>'\n"
          ]
        }
      ]
    }
  ],
  "metadata": {
    "colab": {
      "provenance": [],
      "include_colab_link": true
    },
    "kernelspec": {
      "display_name": "Python 3 (ipykernel)",
      "language": "python",
      "name": "python3"
    },
    "language_info": {
      "codemirror_mode": {
        "name": "ipython",
        "version": 3
      },
      "file_extension": ".py",
      "mimetype": "text/x-python",
      "name": "python",
      "nbconvert_exporter": "python",
      "pygments_lexer": "ipython3",
      "version": "3.10.10"
    }
  },
  "nbformat": 4,
  "nbformat_minor": 0
}
