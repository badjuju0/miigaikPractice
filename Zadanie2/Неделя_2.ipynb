{
  "cells": [
    {
      "cell_type": "markdown",
      "metadata": {
        "id": "view-in-github",
        "colab_type": "text"
      },
      "source": [
        "<a href=\"https://colab.research.google.com/github/badjuju0/miigaikPractice/blob/main/Zadanie2/%D0%9D%D0%B5%D0%B4%D0%B5%D0%BB%D1%8F_2.ipynb\" target=\"_parent\"><img src=\"https://colab.research.google.com/assets/colab-badge.svg\" alt=\"Open In Colab\"/></a>"
      ]
    },
    {
      "cell_type": "markdown",
      "metadata": {
        "id": "GXRm3j6_QiRX"
      },
      "source": [
        "# Неделя 2. Визуализация на карте и чуть-чуть пространственного анализа\n",
        "То, что вы видите перед собой - это **Jupyter Notebook**, такой специальный интерактивный блокнот, который содержит и текст с оформлением и фрагменты кода, при запуске любого из которых под ним появится блок с результатами выполнения.\n",
        "Почитать подробнее об этой технологии можно вот здесь: https://webdevblog.ru/jupyter-notebook-dlya-nachinajushhih-uchebnik/\n",
        "В строке браузера вы видите адрес jupyter-сервера, который настроен для выполнения этих заданий. Однако, если у вас есть потребность, вы можете загрузить сам файл с расширением .ipynb и в другие программы и веб-сервисы для работы с таким форматом. Выполнение заданий возможно в любой удобной вам среде."
      ]
    },
    {
      "cell_type": "markdown",
      "metadata": {
        "id": "c2FJP1bZQiRZ"
      },
      "source": [
        "## Подготовительные действия\n",
        "### Установка библиотек\n",
        "Для выполнения этой работы нам потребуется несколько библиотек. Часть из них взаимосвязана, поэтому устанавливаются они в конкретный каталог, для того, чтобы потом правильно отрабатывал импорт."
      ]
    },
    {
      "cell_type": "code",
      "execution_count": null,
      "metadata": {
        "id": "OfFsxXxIQiRZ",
        "outputId": "3580e8ad-b107-4fa1-b7ed-a9532502edf4"
      },
      "outputs": [
        {
          "name": "stdout",
          "output_type": "stream",
          "text": [
            "Defaulting to user installation because normal site-packages is not writeable\n",
            "Requirement already satisfied: numpy in ./.local/lib/python3.10/site-packages (1.26.2)\n"
          ]
        }
      ],
      "source": [
        "!/opt/tljh/user/bin/pip install numpy"
      ]
    },
    {
      "cell_type": "code",
      "execution_count": null,
      "metadata": {
        "id": "c7EclAXVQiRa",
        "outputId": "e03d08f1-bb85-4c3b-bdef-b2ff512aacd7"
      },
      "outputs": [
        {
          "name": "stdout",
          "output_type": "stream",
          "text": [
            "Defaulting to user installation because normal site-packages is not writeable\n",
            "Requirement already satisfied: branca in ./.local/lib/python3.10/site-packages (0.7.0)\n",
            "Requirement already satisfied: jinja2 in /opt/tljh/user/lib/python3.10/site-packages (from branca) (3.1.2)\n",
            "Requirement already satisfied: MarkupSafe>=2.0 in /opt/tljh/user/lib/python3.10/site-packages (from jinja2->branca) (2.1.3)\n"
          ]
        }
      ],
      "source": [
        "!/opt/tljh/user/bin/pip install branca"
      ]
    },
    {
      "cell_type": "code",
      "execution_count": null,
      "metadata": {
        "id": "j3oTUZoAQiRa",
        "outputId": "0b8696e8-153c-485c-a7f2-aed6a1b3a6e6"
      },
      "outputs": [
        {
          "name": "stdout",
          "output_type": "stream",
          "text": [
            "Defaulting to user installation because normal site-packages is not writeable\n",
            "Requirement already satisfied: folium in ./.local/lib/python3.10/site-packages (0.15.0)\n",
            "Requirement already satisfied: branca>=0.6.0 in ./.local/lib/python3.10/site-packages (from folium) (0.7.0)\n",
            "Requirement already satisfied: jinja2>=2.9 in /opt/tljh/user/lib/python3.10/site-packages (from folium) (3.1.2)\n",
            "Requirement already satisfied: numpy in ./.local/lib/python3.10/site-packages (from folium) (1.26.2)\n",
            "Requirement already satisfied: requests in /opt/tljh/user/lib/python3.10/site-packages (from folium) (2.31.0)\n",
            "Requirement already satisfied: MarkupSafe>=2.0 in /opt/tljh/user/lib/python3.10/site-packages (from jinja2>=2.9->folium) (2.1.3)\n",
            "Requirement already satisfied: charset-normalizer<4,>=2 in /opt/tljh/user/lib/python3.10/site-packages (from requests->folium) (3.1.0)\n",
            "Requirement already satisfied: idna<4,>=2.5 in /opt/tljh/user/lib/python3.10/site-packages (from requests->folium) (3.4)\n",
            "Requirement already satisfied: urllib3<3,>=1.21.1 in /opt/tljh/user/lib/python3.10/site-packages (from requests->folium) (1.26.15)\n",
            "Requirement already satisfied: certifi>=2017.4.17 in /opt/tljh/user/lib/python3.10/site-packages (from requests->folium) (2022.12.7)\n"
          ]
        }
      ],
      "source": [
        "!/opt/tljh/user/bin/pip install folium"
      ]
    },
    {
      "cell_type": "code",
      "execution_count": null,
      "metadata": {
        "id": "w9PlmO-CQiRb",
        "outputId": "9c5ff6e0-e14e-4fa2-d31d-08161785489f"
      },
      "outputs": [
        {
          "name": "stdout",
          "output_type": "stream",
          "text": [
            "Defaulting to user installation because normal site-packages is not writeable\n",
            "Requirement already satisfied: shapely in ./.local/lib/python3.10/site-packages (2.0.2)\n",
            "Requirement already satisfied: numpy>=1.14 in ./.local/lib/python3.10/site-packages (from shapely) (1.26.2)\n"
          ]
        }
      ],
      "source": [
        "!/opt/tljh/user/bin/pip install shapely"
      ]
    },
    {
      "cell_type": "code",
      "execution_count": null,
      "metadata": {
        "id": "PQxN3WrIQiRb",
        "outputId": "0ceafa1f-e4bf-49f8-9324-6907fab4c74f"
      },
      "outputs": [
        {
          "name": "stdout",
          "output_type": "stream",
          "text": [
            "Defaulting to user installation because normal site-packages is not writeable\n",
            "Requirement already satisfied: geopy in ./.local/lib/python3.10/site-packages (2.4.1)\n",
            "Requirement already satisfied: geographiclib<3,>=1.52 in ./.local/lib/python3.10/site-packages (from geopy) (2.0)\n"
          ]
        }
      ],
      "source": [
        "!/opt/tljh/user/bin/pip install geopy"
      ]
    },
    {
      "cell_type": "markdown",
      "metadata": {
        "id": "r5aLr9rFFvvB"
      },
      "source": [
        "## Знакомимся с библиотеками\n",
        "### Попробуем поработать с картой\n",
        "Folium — это мощная библиотека визуализации данных в Python, которая была создана в первую очередь для того, чтобы помочь людям визуализировать гео-пространственные данные.\n",
        "Создание карты мира с помощью Folium довольно просто. Вы просто вызываете функцию карты - `folium.Map()`, и это все.\n",
        "\n",
        "Для фокусирования карты мы передаем значения желаемых широты и долготы с помощью параметра `location` (местоположения) и можно установить начальный уровень масштабирования с помощью параметра `zoom_start`.\n",
        "Параметр `tiles` даёт возможность задать подложку карты.\n",
        "Сейчас выбрана подложка `Cartodb Positron`, но попробуйте также варианты `OpenStreetMap`, `Cartodb dark_matter`.\n",
        "\n",
        "А `control_scale` включает/выключает элемент интерфеса, позволяющий управлять масштабом уже созданной карты с помощью кнопок + и -.\n",
        "\n",
        "Для вывода на карте точек мы можем использовать `folium.Marker` и `folium.CircleMarker`. Для их размещения достаточно указать координаты одной точки в параметре `location`. Для линейных и площадных объектов аналогом будет параметр `locations` в котором указывается массив точек или массив массивов точек.\n",
        "Для всех добавленных объектов мы можем указать в `tooltip` текст подсказки, который будет показан при наведении на объект. А в параметре `popup` текст, который откроется при нажатии.\n",
        "\n",
        "Подробные инструкции и другие параметры можно изучить по ссылке: https://python-visualization.github.io/folium/latest/user_guide/map.html"
      ]
    },
    {
      "cell_type": "code",
      "execution_count": null,
      "metadata": {
        "colab": {
          "base_uri": "https://localhost:8080/",
          "height": 1000
        },
        "id": "EwXwodo6AUk4",
        "outputId": "4145b86c-c8de-443c-86de-17b4f863c8c3",
        "scrolled": true
      },
      "outputs": [
        {
          "data": {
            "text/html": [
              "<div style=\"width:100%;\"><div style=\"position:relative;width:100%;height:0;padding-bottom:60%;\"><span style=\"color:#565656\">Make this Notebook Trusted to load map: File -> Trust Notebook</span><iframe srcdoc=\"&lt;!DOCTYPE html&gt;\n",
              "&lt;html&gt;\n",
              "&lt;head&gt;\n",
              "    \n",
              "    &lt;meta http-equiv=&quot;content-type&quot; content=&quot;text/html; charset=UTF-8&quot; /&gt;\n",
              "    \n",
              "        &lt;script&gt;\n",
              "            L_NO_TOUCH = false;\n",
              "            L_DISABLE_3D = false;\n",
              "        &lt;/script&gt;\n",
              "    \n",
              "    &lt;style&gt;html, body {width: 100%;height: 100%;margin: 0;padding: 0;}&lt;/style&gt;\n",
              "    &lt;style&gt;#map {position:absolute;top:0;bottom:0;right:0;left:0;}&lt;/style&gt;\n",
              "    &lt;script src=&quot;https://cdn.jsdelivr.net/npm/leaflet@1.9.3/dist/leaflet.js&quot;&gt;&lt;/script&gt;\n",
              "    &lt;script src=&quot;https://code.jquery.com/jquery-3.7.1.min.js&quot;&gt;&lt;/script&gt;\n",
              "    &lt;script src=&quot;https://cdn.jsdelivr.net/npm/bootstrap@5.2.2/dist/js/bootstrap.bundle.min.js&quot;&gt;&lt;/script&gt;\n",
              "    &lt;script src=&quot;https://cdnjs.cloudflare.com/ajax/libs/Leaflet.awesome-markers/2.0.2/leaflet.awesome-markers.js&quot;&gt;&lt;/script&gt;\n",
              "    &lt;link rel=&quot;stylesheet&quot; href=&quot;https://cdn.jsdelivr.net/npm/leaflet@1.9.3/dist/leaflet.css&quot;/&gt;\n",
              "    &lt;link rel=&quot;stylesheet&quot; href=&quot;https://cdn.jsdelivr.net/npm/bootstrap@5.2.2/dist/css/bootstrap.min.css&quot;/&gt;\n",
              "    &lt;link rel=&quot;stylesheet&quot; href=&quot;https://netdna.bootstrapcdn.com/bootstrap/3.0.0/css/bootstrap.min.css&quot;/&gt;\n",
              "    &lt;link rel=&quot;stylesheet&quot; href=&quot;https://cdn.jsdelivr.net/npm/@fortawesome/fontawesome-free@6.2.0/css/all.min.css&quot;/&gt;\n",
              "    &lt;link rel=&quot;stylesheet&quot; href=&quot;https://cdnjs.cloudflare.com/ajax/libs/Leaflet.awesome-markers/2.0.2/leaflet.awesome-markers.css&quot;/&gt;\n",
              "    &lt;link rel=&quot;stylesheet&quot; href=&quot;https://cdn.jsdelivr.net/gh/python-visualization/folium/folium/templates/leaflet.awesome.rotate.min.css&quot;/&gt;\n",
              "    \n",
              "            &lt;meta name=&quot;viewport&quot; content=&quot;width=device-width,\n",
              "                initial-scale=1.0, maximum-scale=1.0, user-scalable=no&quot; /&gt;\n",
              "            &lt;style&gt;\n",
              "                #map_d2eb9d9fb41c0742cfb4180a60fb1e3e {\n",
              "                    position: relative;\n",
              "                    width: 100.0%;\n",
              "                    height: 100.0%;\n",
              "                    left: 0.0%;\n",
              "                    top: 0.0%;\n",
              "                }\n",
              "                .leaflet-container { font-size: 1rem; }\n",
              "            &lt;/style&gt;\n",
              "        \n",
              "&lt;/head&gt;\n",
              "&lt;body&gt;\n",
              "    \n",
              "    \n",
              "            &lt;div class=&quot;folium-map&quot; id=&quot;map_d2eb9d9fb41c0742cfb4180a60fb1e3e&quot; &gt;&lt;/div&gt;\n",
              "        \n",
              "&lt;/body&gt;\n",
              "&lt;script&gt;\n",
              "    \n",
              "    \n",
              "            var map_d2eb9d9fb41c0742cfb4180a60fb1e3e = L.map(\n",
              "                &quot;map_d2eb9d9fb41c0742cfb4180a60fb1e3e&quot;,\n",
              "                {\n",
              "                    center: [59.93, 30.33],\n",
              "                    crs: L.CRS.EPSG3857,\n",
              "                    zoom: 13,\n",
              "                    zoomControl: true,\n",
              "                    preferCanvas: false,\n",
              "                }\n",
              "            );\n",
              "            L.control.scale().addTo(map_d2eb9d9fb41c0742cfb4180a60fb1e3e);\n",
              "\n",
              "            \n",
              "\n",
              "        \n",
              "    \n",
              "            var tile_layer_19e827607e1dcae0dc83460917c6d0ab = L.tileLayer(\n",
              "                &quot;https://cartodb-basemaps-{s}.global.ssl.fastly.net/light_all/{z}/{x}/{y}.png&quot;,\n",
              "                {&quot;attribution&quot;: &quot;\\u0026copy; \\u003ca target=\\&quot;_blank\\&quot; href=\\&quot;http://www.openstreetmap.org/copyright\\&quot;\\u003eOpenStreetMap\\u003c/a\\u003e contributors \\u0026copy; \\u003ca target=\\&quot;_blank\\&quot; href=\\&quot;http://cartodb.com/attributions\\&quot;\\u003eCartoDB\\u003c/a\\u003e, CartoDB \\u003ca target=\\&quot;_blank\\&quot; href =\\&quot;http://cartodb.com/attributions\\&quot;\\u003eattributions\\u003c/a\\u003e&quot;, &quot;detectRetina&quot;: false, &quot;maxNativeZoom&quot;: 18, &quot;maxZoom&quot;: 18, &quot;minZoom&quot;: 0, &quot;noWrap&quot;: false, &quot;opacity&quot;: 1, &quot;subdomains&quot;: &quot;abc&quot;, &quot;tms&quot;: false}\n",
              "            );\n",
              "        \n",
              "    \n",
              "                tile_layer_19e827607e1dcae0dc83460917c6d0ab.addTo(map_d2eb9d9fb41c0742cfb4180a60fb1e3e);\n",
              "    \n",
              "                var lat_lng_popup_e36ff00b9484fa847042fb1dc12f2442 = L.popup();\n",
              "                function latLngPop(e) {\n",
              "                    lat_lng_popup_e36ff00b9484fa847042fb1dc12f2442\n",
              "                        .setLatLng(e.latlng)\n",
              "                        .setContent(&quot;Latitude: &quot; + e.latlng.lat.toFixed(4) +\n",
              "                                    &quot;&lt;br&gt;Longitude: &quot; + e.latlng.lng.toFixed(4))\n",
              "                        .openOn(map_d2eb9d9fb41c0742cfb4180a60fb1e3e);\n",
              "                    }\n",
              "                map_d2eb9d9fb41c0742cfb4180a60fb1e3e.on(&#x27;click&#x27;, latLngPop);\n",
              "            \n",
              "    \n",
              "            var marker_b0de50f15d51275e7c56d7fa1385ba80 = L.marker(\n",
              "                [59.94, 30.35],\n",
              "                {}\n",
              "            ).addTo(map_d2eb9d9fb41c0742cfb4180a60fb1e3e);\n",
              "        \n",
              "    \n",
              "        var popup_4cdac7ac2ad5bd3cc7445c916e46477e = L.popup({&quot;maxWidth&quot;: &quot;100%&quot;});\n",
              "\n",
              "        \n",
              "            \n",
              "                var html_51857cc6b0d8489ffc2504e48a0778a5 = $(`&lt;div id=&quot;html_51857cc6b0d8489ffc2504e48a0778a5&quot; style=&quot;width: 100.0%; height: 100.0%;&quot;&gt;&lt;i&gt;Здесь был Вася&lt;/i&gt;&lt;/div&gt;`)[0];\n",
              "                popup_4cdac7ac2ad5bd3cc7445c916e46477e.setContent(html_51857cc6b0d8489ffc2504e48a0778a5);\n",
              "            \n",
              "        \n",
              "\n",
              "        marker_b0de50f15d51275e7c56d7fa1385ba80.bindPopup(popup_4cdac7ac2ad5bd3cc7445c916e46477e)\n",
              "        ;\n",
              "\n",
              "        \n",
              "    \n",
              "    \n",
              "            marker_b0de50f15d51275e7c56d7fa1385ba80.bindTooltip(\n",
              "                `&lt;div&gt;\n",
              "                     Метка 1\n",
              "                 &lt;/div&gt;`,\n",
              "                {&quot;sticky&quot;: true}\n",
              "            );\n",
              "        \n",
              "    \n",
              "            var marker_0e29e40800efe5c1a186c9a36d2d5cdf = L.marker(\n",
              "                [59.92, 30.32],\n",
              "                {}\n",
              "            ).addTo(map_d2eb9d9fb41c0742cfb4180a60fb1e3e);\n",
              "        \n",
              "    \n",
              "            var icon_10e7e63993683076cf2d5a2a8b006c68 = L.AwesomeMarkers.icon(\n",
              "                {&quot;extraClasses&quot;: &quot;fa-rotate-0&quot;, &quot;icon&quot;: &quot;info-sign&quot;, &quot;iconColor&quot;: &quot;white&quot;, &quot;markerColor&quot;: &quot;green&quot;, &quot;prefix&quot;: &quot;glyphicon&quot;}\n",
              "            );\n",
              "            marker_0e29e40800efe5c1a186c9a36d2d5cdf.setIcon(icon_10e7e63993683076cf2d5a2a8b006c68);\n",
              "        \n",
              "    \n",
              "        var popup_557e0ff3b9ee63c67bf215920ea6277a = L.popup({&quot;maxWidth&quot;: &quot;100%&quot;});\n",
              "\n",
              "        \n",
              "            \n",
              "                var html_dacd8148611349be829f5b6b73aac545 = $(`&lt;div id=&quot;html_dacd8148611349be829f5b6b73aac545&quot; style=&quot;width: 100.0%; height: 100.0%;&quot;&gt;&lt;b&gt;Хорошее кафе&lt;/b&gt;&lt;/div&gt;`)[0];\n",
              "                popup_557e0ff3b9ee63c67bf215920ea6277a.setContent(html_dacd8148611349be829f5b6b73aac545);\n",
              "            \n",
              "        \n",
              "\n",
              "        marker_0e29e40800efe5c1a186c9a36d2d5cdf.bindPopup(popup_557e0ff3b9ee63c67bf215920ea6277a)\n",
              "        ;\n",
              "\n",
              "        \n",
              "    \n",
              "    \n",
              "            marker_0e29e40800efe5c1a186c9a36d2d5cdf.bindTooltip(\n",
              "                `&lt;div&gt;\n",
              "                     Метка 2\n",
              "                 &lt;/div&gt;`,\n",
              "                {&quot;sticky&quot;: true}\n",
              "            );\n",
              "        \n",
              "    \n",
              "            var circle_marker_61cd99542b69f59281a4334a3316a006 = L.circleMarker(\n",
              "                [59.93, 30.33],\n",
              "                {&quot;bubblingMouseEvents&quot;: true, &quot;color&quot;: &quot;#3186cc&quot;, &quot;dashArray&quot;: null, &quot;dashOffset&quot;: null, &quot;fill&quot;: true, &quot;fillColor&quot;: &quot;#3186cc&quot;, &quot;fillOpacity&quot;: 0.2, &quot;fillRule&quot;: &quot;evenodd&quot;, &quot;lineCap&quot;: &quot;round&quot;, &quot;lineJoin&quot;: &quot;round&quot;, &quot;opacity&quot;: 1.0, &quot;radius&quot;: 50, &quot;stroke&quot;: true, &quot;weight&quot;: 3}\n",
              "            ).addTo(map_d2eb9d9fb41c0742cfb4180a60fb1e3e);\n",
              "        \n",
              "    \n",
              "        var popup_293ca6af281a3202f88502c05eea7531 = L.popup({&quot;maxWidth&quot;: &quot;100%&quot;});\n",
              "\n",
              "        \n",
              "            \n",
              "                var html_d7e4692d7b8c106723c7e3d3c5c7e38d = $(`&lt;div id=&quot;html_d7e4692d7b8c106723c7e3d3c5c7e38d&quot; style=&quot;width: 100.0%; height: 100.0%;&quot;&gt;Апраксин двор&lt;/div&gt;`)[0];\n",
              "                popup_293ca6af281a3202f88502c05eea7531.setContent(html_d7e4692d7b8c106723c7e3d3c5c7e38d);\n",
              "            \n",
              "        \n",
              "\n",
              "        circle_marker_61cd99542b69f59281a4334a3316a006.bindPopup(popup_293ca6af281a3202f88502c05eea7531)\n",
              "        ;\n",
              "\n",
              "        \n",
              "    \n",
              "    \n",
              "            var polygon_59bc757f16479d47a8b7007dbd25e977 = L.polygon(\n",
              "                [[[59.9262, 30.3495], [59.9218, 30.3431], [59.9267, 30.3468], [59.9295, 30.3424], [59.9287, 30.3491]], [[59.91, 30.34], [59.9115, 30.34], [59.9115, 30.343], [59.91, 30.343]]],\n",
              "                {&quot;bubblingMouseEvents&quot;: true, &quot;color&quot;: &quot;blue&quot;, &quot;dashArray&quot;: null, &quot;dashOffset&quot;: null, &quot;fill&quot;: true, &quot;fillColor&quot;: &quot;red&quot;, &quot;fillOpacity&quot;: 0.5, &quot;fillRule&quot;: &quot;evenodd&quot;, &quot;lineCap&quot;: &quot;round&quot;, &quot;lineJoin&quot;: &quot;round&quot;, &quot;noClip&quot;: false, &quot;opacity&quot;: 1.0, &quot;smoothFactor&quot;: 1.0, &quot;stroke&quot;: true, &quot;weight&quot;: 2}\n",
              "            ).addTo(map_d2eb9d9fb41c0742cfb4180a60fb1e3e);\n",
              "        \n",
              "    \n",
              "        var popup_12efe7319a2f83e8fa8e2e631d155700 = L.popup({&quot;maxWidth&quot;: &quot;100%&quot;});\n",
              "\n",
              "        \n",
              "            \n",
              "                var html_7606a8fdaa0dc20cbc44d106d856074c = $(`&lt;div id=&quot;html_7606a8fdaa0dc20cbc44d106d856074c&quot; style=&quot;width: 100.0%; height: 100.0%;&quot;&gt;Тестовый полигон&lt;/div&gt;`)[0];\n",
              "                popup_12efe7319a2f83e8fa8e2e631d155700.setContent(html_7606a8fdaa0dc20cbc44d106d856074c);\n",
              "            \n",
              "        \n",
              "\n",
              "        polygon_59bc757f16479d47a8b7007dbd25e977.bindPopup(popup_12efe7319a2f83e8fa8e2e631d155700)\n",
              "        ;\n",
              "\n",
              "        \n",
              "    \n",
              "    \n",
              "            polygon_59bc757f16479d47a8b7007dbd25e977.bindTooltip(\n",
              "                `&lt;div&gt;\n",
              "                     Кликни!\n",
              "                 &lt;/div&gt;`,\n",
              "                {&quot;sticky&quot;: true}\n",
              "            );\n",
              "        \n",
              "&lt;/script&gt;\n",
              "&lt;/html&gt;\" style=\"position:absolute;width:100%;height:100%;left:0;top:0;border:none !important;\" allowfullscreen webkitallowfullscreen mozallowfullscreen></iframe></div></div>"
            ],
            "text/plain": [
              "<folium.folium.Map at 0x7f288def7460>"
            ]
          },
          "execution_count": 7,
          "metadata": {},
          "output_type": "execute_result"
        }
      ],
      "source": [
        "import folium\n",
        "\n",
        "m1 = folium.Map(location=[59.93, 30.33], control_scale=True,\n",
        "                tiles='Cartodb Positron',\n",
        "                zoom_start=13)\n",
        "m1.add_child(\n",
        "    folium.LatLngPopup()\n",
        ")\n",
        "folium.Marker(\n",
        "    location=[59.94, 30.35],\n",
        "    popup='<i>Здесь был Вася</i>',\n",
        "    tooltip='Метка 1').add_to(m1) # попробуйте добавить: icon=folium.Icon(icon=\"cloud\")\n",
        "\n",
        "folium.Marker(\n",
        "    location=[59.92, 30.32],\n",
        "    popup='<b>Хорошее кафе</b>',\n",
        "    tooltip='Метка 2',\n",
        "    icon=folium.Icon(color=\"green\")).add_to(m1) # подкрасили метку на карте\n",
        "\n",
        "folium.CircleMarker(\n",
        "    location=[59.93, 30.33],\n",
        "    radius=50,\n",
        "    popup=\"Апраксин двор\",\n",
        "    color=\"#3186cc\",\n",
        "    fill=True,\n",
        "    fill_color=\"#3186cc\",\n",
        ").add_to(m1)\n",
        "\n",
        "locations = [\n",
        "    [\n",
        "    [59.9262, 30.3495],\n",
        "    [59.9218, 30.3431],\n",
        "    [59.9267, 30.3468],\n",
        "    [59.9295, 30.3424],\n",
        "    [59.9287, 30.3491],\n",
        "],\n",
        "    [\n",
        "    [59.9100, 30.3400],\n",
        "    [59.9115, 30.3400],\n",
        "    [59.9115, 30.3430],\n",
        "    [59.9100, 30.3430],\n",
        "    ]\n",
        "]\n",
        "\n",
        "folium.Polygon(\n",
        "    locations=locations,\n",
        "    color=\"blue\",\n",
        "    weight=2,\n",
        "    fill_color=\"red\",\n",
        "    fill_opacity=0.5,\n",
        "    fill=True,\n",
        "    popup=\"Тестовый полигон\",\n",
        "    tooltip=\"Кликни!\",\n",
        ").add_to(m1)\n",
        "\n",
        "m1"
      ]
    },
    {
      "cell_type": "markdown",
      "metadata": {
        "id": "-y2i7finQiRc"
      },
      "source": [
        "### База пространственного анализа: пересечение и вхождение\n",
        "Shapely – это библиотека для работы с планарными геометрическими объектами. Она предоставляет функционал для создания, анализа и манипуляции с геометрией объектов.\n",
        "Во фрагменте кода ниже можно посмотреть, как проверить вхождение точки в полигон, и как проверить пересечение объектов.\n",
        "\n",
        "Почитать еще:\n",
        "- https://pypi.org/project/shapely/\n",
        "- https://shapely.readthedocs.io/en/stable/manual.html"
      ]
    },
    {
      "cell_type": "code",
      "execution_count": null,
      "metadata": {
        "id": "hjIpdb1-QiRc",
        "outputId": "b4a7e76d-0573-49df-913c-9c3fb8e80551"
      },
      "outputs": [
        {
          "data": {
            "text/plain": [
              "'Вхождение точек: True; Пересечение полигонов: False; площадь: 1.8435e-05'"
            ]
          },
          "execution_count": 8,
          "metadata": {},
          "output_type": "execute_result"
        }
      ],
      "source": [
        "import shapely\n",
        "import numpy as np\n",
        "from shapely import Point\n",
        "from shapely import Polygon\n",
        "\n",
        "point1 = Point(59.92705, 30.347)\n",
        "geoms = np.array([point1, Point(59.91, 30.31), Point(59.92, 30.32)])\n",
        "\n",
        "polygon1= Polygon([[59.9262, 30.3495],\n",
        "    [59.9218, 30.3431],\n",
        "    [59.9267, 30.3468],\n",
        "    [59.9295, 30.3424],\n",
        "    [59.9287, 30.3491]])\n",
        "polygon3= Polygon([[59.9100, 30.3400],\n",
        "    [59.9115, 30.3400],\n",
        "    [59.9115, 30.3430],\n",
        "    [59.9100, 30.3430]])\n",
        "a = shapely.contains(polygon1, geoms)\n",
        "\n",
        "b = shapely.intersects(polygon1, polygon3)\n",
        "s = \"Вхождение точек: \"+str(shapely.contains(polygon1, point1)) + \"; Пересечение полигонов: \"+str(b)+\"; площадь: \"+str(round(polygon1.area, 9))\n",
        "s\n"
      ]
    },
    {
      "cell_type": "markdown",
      "metadata": {
        "id": "HGELPXRhQiRd"
      },
      "source": [
        "### Измерение расстояний\n",
        "Модуль shapely всем прекрасен, но работает он с геометрией. И несмотря на то, что там можно запросить длину ломаной или площадь полигона, что нам это даст, если координаты даны в градусах?\n",
        "Однако мы можем импортировать модуль для подсчета расстояния geopy.distance, для того чтобы считать расстояния в километрах, подавая на вход координаты точек в градусах.\n",
        "Почитать подробнее можно вот тут: https://geopy.readthedocs.io/en/stable/#module-geopy.distance"
      ]
    },
    {
      "cell_type": "code",
      "execution_count": null,
      "metadata": {
        "id": "hBqrSZAKQiRd",
        "outputId": "ba7575b5-1244-49dd-f9de-52bb5a6f58fd"
      },
      "outputs": [
        {
          "name": "stdout",
          "output_type": "stream",
          "text": [
            "Если считать длину 3 линии напрямую: 0.014555063822207528\n",
            "Расстояние (в км) от 0 до 1 точки: 0.27033403405999173\n",
            "Длина линии 3 (в км): 1.4729117965700167\n"
          ]
        }
      ],
      "source": [
        "from shapely import wkt\n",
        "from geopy.distance import geodesic as GD\n",
        "\n",
        "geom_objects = wkt.loads('''GEOMETRYCOLLECTION(\n",
        "POINT (37.630853 55.752417),\n",
        "POINT (37.632097 55.749784),\n",
        "POINT (37.625382 55.749917),\n",
        "LINESTRING (37.63347 55.753504, 37.632333 55.749567, 37.628407 55.749796, 37.624438 55.749676, 37.624138 55.752212),\n",
        "LINESTRING (37.622486 55.753311, 37.621284 55.752441, 37.618688 55.750835, 37.618023 55.750002, 37.614762 55.749338, 37.614461 55.750533, 37.615148 55.752175, 37.612573 55.75255),\n",
        "POLYGON ((37.616497 55.755134, 37.617741 55.754506, 37.616969 55.753419, 37.615467 55.753733, 37.616497 55.755134)),\n",
        "POLYGON ((37.636453 55.750509, 37.634394 55.751064, 37.6336 55.750219, 37.635745 55.749639, 37.636453 55.750509)))''')\n",
        "print(\"Если считать длину 3 линии напрямую: \"+str(geom_objects.geoms[3].length))\n",
        "print(\"Расстояние (в км) от 0 до 1 точки: \"+str(GD(geom_objects.geoms[0].coords,geom_objects.geoms[1].coords).km))\n",
        "len = 0.0\n",
        "for coord in geom_objects.geoms[3].coords:\n",
        "    num = list(geom_objects.geoms[3].coords).index(coord)\n",
        "    if num > 0:\n",
        "        len = len + GD(geom_objects.geoms[3].coords[num - 1], coord).km\n",
        "print(\"Длина линии 3 (в км): \"+str(len))"
      ]
    },
    {
      "cell_type": "markdown",
      "metadata": {
        "id": "yR8cr4rWQiRd"
      },
      "source": [
        "## Приступим!\n",
        "### Генерация исходных данных\n",
        "Следующая команда создаёт файл `geom.wkt` с некоторым случайным набором геометрических объектов (точек, ломаных и полигонов). Он понадобится для выполнения задания."
      ]
    },
    {
      "cell_type": "code",
      "execution_count": 1,
      "metadata": {
        "id": "9EfK1GjkQiRd"
      },
      "outputs": [],
      "source": [
        "!python createGeom.py"
      ]
    },
    {
      "cell_type": "markdown",
      "metadata": {
        "id": "GOkgm3meQiRd"
      },
      "source": [
        "Посмотрим, что получилось:"
      ]
    },
    {
      "cell_type": "code",
      "execution_count": 2,
      "metadata": {
        "colab": {
          "base_uri": "https://localhost:8080/",
          "height": 122
        },
        "id": "ocgVze4lQiRe",
        "outputId": "124bc50f-3e95-4738-df48-02563eed88b5"
      },
      "outputs": [
        {
          "output_type": "execute_result",
          "data": {
            "text/plain": [
              "<GEOMETRYCOLLECTION (POINT (55.778 37.696), POINT (55.766 37.699), POINT (55...>"
            ],
            "image/svg+xml": "<svg xmlns=\"http://www.w3.org/2000/svg\" xmlns:xlink=\"http://www.w3.org/1999/xlink\" width=\"100.0\" height=\"100.0\" viewBox=\"55.74487656799385 37.60804509666522 0.06203246460127332 0.11682205317599426\" preserveAspectRatio=\"xMinYMin meet\"><g transform=\"matrix(1,0,0,-1,0,75.33291224650644)\"><g><circle cx=\"55.77788079508609\" cy=\"37.696036770838504\" r=\"0.0035046615952798272\" stroke=\"#555555\" stroke-width=\"0.0011682205317599425\" fill=\"#66cc99\" opacity=\"0.6\" /><circle cx=\"55.7662775198685\" cy=\"37.69935783665245\" r=\"0.0035046615952798272\" stroke=\"#555555\" stroke-width=\"0.0011682205317599425\" fill=\"#66cc99\" opacity=\"0.6\" /><circle cx=\"55.78265299591496\" cy=\"37.66489716450275\" r=\"0.0035046615952798272\" stroke=\"#555555\" stroke-width=\"0.0011682205317599425\" fill=\"#66cc99\" opacity=\"0.6\" /><polyline fill=\"none\" stroke=\"#66cc99\" stroke-width=\"0.002336441063519885\" points=\"55.79648338132659,37.640434276178055 55.79355168508394,37.691604082087956 55.77058799825719,37.68260566314934 55.79591226093812,37.64667921897496 55.78530402821087,37.62257033179234\" opacity=\"0.8\" /><polyline fill=\"none\" stroke=\"#66cc99\" stroke-width=\"0.002336441063519885\" points=\"55.775083960501625,37.64021095339891 55.780459103099616,37.720540407131\" opacity=\"0.8\" /><path fill-rule=\"evenodd\" fill=\"#66cc99\" stroke=\"#555555\" stroke-width=\"0.002336441063519885\" opacity=\"0.6\" d=\"M 55.78759026687848,37.63473352129828 L 55.78141309605875,37.62691627735258 L 55.77773174962406,37.61237183937544 L 55.76344169638252,37.62079133762189 L 55.77020478260004,37.633387400145125 L 55.78759026687848,37.63473352129828 z\" /><path fill-rule=\"evenodd\" fill=\"#66cc99\" stroke=\"#555555\" stroke-width=\"0.002336441063519885\" opacity=\"0.6\" d=\"M 55.780872442130416,37.65700333070336 L 55.770115917560794,37.64001380180104 L 55.78218942659777,37.634740820918005 L 55.77230895062503,37.633460847788555 L 55.7680383888515,37.63246670991639 L 55.75860871549395,37.62635993987862 L 55.74920331070407,37.633218883933715 L 55.76324239489289,37.640897084704065 L 55.7562975533716,37.65549864548966 L 55.780872442130416,37.65700333070336 z\" /><path fill-rule=\"evenodd\" fill=\"#66cc99\" stroke=\"#555555\" stroke-width=\"0.002336441063519885\" opacity=\"0.6\" d=\"M 55.79497809511907,37.661240161369115 L 55.80253219638784,37.66229155369831 L 55.80162179312557,37.656811255494034 L 55.8025822898849,37.64710056367636 L 55.79364368297565,37.64695954705675 L 55.78201721380359,37.64340103865312 L 55.7849357935788,37.6565741358428 L 55.7746985434438,37.66555914960224 L 55.78966560143765,37.66487886012752 L 55.79497809511907,37.661240161369115 z\" /></g></g></svg>"
          },
          "metadata": {},
          "execution_count": 2
        }
      ],
      "source": [
        "from shapely import wkt\n",
        "file_wkt = open('geom.wkt', 'r')\n",
        "geom_objects = wkt.loads(file_wkt.read())\n",
        "geom_objects\n"
      ]
    },
    {
      "cell_type": "markdown",
      "metadata": {
        "id": "xY-_RJr6QiRe"
      },
      "source": [
        "### Маленький пространственный анализ\n",
        "Проведем проверки вхождений и пересечений для созданного набора объектов."
      ]
    },
    {
      "cell_type": "code",
      "execution_count": 3,
      "metadata": {
        "colab": {
          "base_uri": "https://localhost:8080/"
        },
        "id": "_8bmUYBPQiRe",
        "outputId": "6969d2ad-6604-410f-a07f-f93f7e56f662"
      },
      "outputs": [
        {
          "output_type": "stream",
          "name": "stdout",
          "text": [
            "Точка 2 входит в полигон 7\n",
            "Ломаная 3 пересекается с объектом 4\n",
            "Ломаная 3 пересекается с объектом 7\n",
            "Ломаная 4 пересекается с объектом 6\n",
            "Ломаная 4 пересекается с объектом 7\n",
            "Полигон 5 пересекается с объектом 6\n"
          ]
        }
      ],
      "source": [
        "import shapely\n",
        "from shapely import wkt\n",
        "from shapely import Point\n",
        "from shapely import Polygon\n",
        "from shapely import LineString\n",
        "file_wkt = open('geom.wkt', 'r')\n",
        "geom_objects = wkt.loads(file_wkt.read())\n",
        "file_wkt.close()\n",
        "file_html = open(\"input_and_SA.html\", \"w\")\n",
        "page = '''<html>\n",
        "<body>\n",
        "<p> Исходные данные (в формате wkt):'''\n",
        "page = page + str(geom_objects.wkt) + '</p><br/>'\n",
        "page = page + '<ul>'\n",
        "for geom in geom_objects.geoms:\n",
        "    number_geom = list(geom_objects.geoms).index(geom)\n",
        "    str_type = \"\"\n",
        "    if type(geom) == Polygon:\n",
        "        str_type = \"Полигон \"\n",
        "    if type(geom) == LineString:\n",
        "        str_type = \"Ломаная \"\n",
        "    if type(geom) == Point:\n",
        "        str_type = \"Точка \"\n",
        "\n",
        "    for another_geom in geom_objects.geoms:\n",
        "        number_geom_2 = list(geom_objects.geoms).index(another_geom)\n",
        "        if (number_geom < number_geom_2):\n",
        "            if (type(geom)!= Point and type(another_geom) != Point and shapely.intersects(geom, another_geom)):\n",
        "                p1 = (str_type+str(number_geom)+\" пересекается с объектом \"+str(number_geom_2))\n",
        "                page = page + '<li>'+p1+'</li>'\n",
        "                print(p1)\n",
        "            if (type(geom) == Point and type(another_geom) == Polygon and shapely.contains(another_geom, geom)):\n",
        "                p2 = (str_type+str(number_geom)+\" входит в полигон \"+str(number_geom_2))\n",
        "                page = page + '<li>'+p2+'</li>'\n",
        "                print(p2)\n",
        "page = page + '</ul>'\n",
        "page = page + ('''\n",
        "</body>\n",
        "</html>''')\n",
        "file_html.write(page)\n",
        "file_html.close()"
      ]
    },
    {
      "cell_type": "markdown",
      "metadata": {
        "id": "zfV1XDVvQiRe"
      },
      "source": [
        "### Вывод на карте\n",
        "Посмотрим на карте на эти объекты."
      ]
    },
    {
      "cell_type": "code",
      "execution_count": 8,
      "metadata": {
        "colab": {
          "base_uri": "https://localhost:8080/",
          "height": 1000
        },
        "id": "MZF11ytgQiRf",
        "outputId": "54150090-ed33-418c-dfdf-c9a78dc0340a"
      },
      "outputs": [
        {
          "output_type": "execute_result",
          "data": {
            "text/plain": [
              "<folium.folium.Map at 0x795cd1423aa0>"
            ],
            "text/html": [
              "<div style=\"width:100%;\"><div style=\"position:relative;width:100%;height:0;padding-bottom:60%;\"><span style=\"color:#565656\">Make this Notebook Trusted to load map: File -> Trust Notebook</span><iframe srcdoc=\"&lt;!DOCTYPE html&gt;\n",
              "&lt;html&gt;\n",
              "&lt;head&gt;\n",
              "    \n",
              "    &lt;meta http-equiv=&quot;content-type&quot; content=&quot;text/html; charset=UTF-8&quot; /&gt;\n",
              "    &lt;script src=&quot;https://cdn.jsdelivr.net/npm/leaflet@1.9.3/dist/leaflet.js&quot;&gt;&lt;/script&gt;\n",
              "    &lt;script src=&quot;https://code.jquery.com/jquery-3.7.1.min.js&quot;&gt;&lt;/script&gt;\n",
              "    &lt;script src=&quot;https://cdn.jsdelivr.net/npm/bootstrap@5.2.2/dist/js/bootstrap.bundle.min.js&quot;&gt;&lt;/script&gt;\n",
              "    &lt;script src=&quot;https://cdnjs.cloudflare.com/ajax/libs/Leaflet.awesome-markers/2.0.2/leaflet.awesome-markers.js&quot;&gt;&lt;/script&gt;\n",
              "    &lt;link rel=&quot;stylesheet&quot; href=&quot;https://cdn.jsdelivr.net/npm/leaflet@1.9.3/dist/leaflet.css&quot;/&gt;\n",
              "    &lt;link rel=&quot;stylesheet&quot; href=&quot;https://cdn.jsdelivr.net/npm/bootstrap@5.2.2/dist/css/bootstrap.min.css&quot;/&gt;\n",
              "    &lt;link rel=&quot;stylesheet&quot; href=&quot;https://netdna.bootstrapcdn.com/bootstrap/3.0.0/css/bootstrap-glyphicons.css&quot;/&gt;\n",
              "    &lt;link rel=&quot;stylesheet&quot; href=&quot;https://cdn.jsdelivr.net/npm/@fortawesome/fontawesome-free@6.2.0/css/all.min.css&quot;/&gt;\n",
              "    &lt;link rel=&quot;stylesheet&quot; href=&quot;https://cdnjs.cloudflare.com/ajax/libs/Leaflet.awesome-markers/2.0.2/leaflet.awesome-markers.css&quot;/&gt;\n",
              "    &lt;link rel=&quot;stylesheet&quot; href=&quot;https://cdn.jsdelivr.net/gh/python-visualization/folium/folium/templates/leaflet.awesome.rotate.min.css&quot;/&gt;\n",
              "    \n",
              "            &lt;meta name=&quot;viewport&quot; content=&quot;width=device-width,\n",
              "                initial-scale=1.0, maximum-scale=1.0, user-scalable=no&quot; /&gt;\n",
              "            &lt;style&gt;\n",
              "                #map_7e516c436a2c4a755cfc777c7fdd0e2b {\n",
              "                    position: relative;\n",
              "                    width: 100.0%;\n",
              "                    height: 100.0%;\n",
              "                    left: 0.0%;\n",
              "                    top: 0.0%;\n",
              "                }\n",
              "                .leaflet-container { font-size: 1rem; }\n",
              "            &lt;/style&gt;\n",
              "\n",
              "            &lt;style&gt;html, body {\n",
              "                width: 100%;\n",
              "                height: 100%;\n",
              "                margin: 0;\n",
              "                padding: 0;\n",
              "            }\n",
              "            &lt;/style&gt;\n",
              "\n",
              "            &lt;style&gt;#map {\n",
              "                position:absolute;\n",
              "                top:0;\n",
              "                bottom:0;\n",
              "                right:0;\n",
              "                left:0;\n",
              "                }\n",
              "            &lt;/style&gt;\n",
              "\n",
              "            &lt;script&gt;\n",
              "                L_NO_TOUCH = false;\n",
              "                L_DISABLE_3D = false;\n",
              "            &lt;/script&gt;\n",
              "\n",
              "        \n",
              "&lt;/head&gt;\n",
              "&lt;body&gt;\n",
              "    \n",
              "    \n",
              "            &lt;div class=&quot;folium-map&quot; id=&quot;map_7e516c436a2c4a755cfc777c7fdd0e2b&quot; &gt;&lt;/div&gt;\n",
              "        \n",
              "&lt;/body&gt;\n",
              "&lt;script&gt;\n",
              "    \n",
              "    \n",
              "            var map_7e516c436a2c4a755cfc777c7fdd0e2b = L.map(\n",
              "                &quot;map_7e516c436a2c4a755cfc777c7fdd0e2b&quot;,\n",
              "                {\n",
              "                    center: [55.86569, 37.652726],\n",
              "                    crs: L.CRS.EPSG3857,\n",
              "                    ...{\n",
              "  &quot;zoom&quot;: 14,\n",
              "  &quot;zoomControl&quot;: true,\n",
              "  &quot;preferCanvas&quot;: false,\n",
              "}\n",
              "\n",
              "                }\n",
              "            );\n",
              "            L.control.scale().addTo(map_7e516c436a2c4a755cfc777c7fdd0e2b);\n",
              "\n",
              "            \n",
              "\n",
              "        \n",
              "    \n",
              "            var tile_layer_4c8a1461d483012e81e3326bcfccc1ff = L.tileLayer(\n",
              "                &quot;https://{s}.basemaps.cartocdn.com/light_all/{z}/{x}/{y}{r}.png&quot;,\n",
              "                {\n",
              "  &quot;minZoom&quot;: 0,\n",
              "  &quot;maxZoom&quot;: 20,\n",
              "  &quot;maxNativeZoom&quot;: 20,\n",
              "  &quot;noWrap&quot;: false,\n",
              "  &quot;attribution&quot;: &quot;\\u0026copy; \\u003ca href=\\&quot;https://www.openstreetmap.org/copyright\\&quot;\\u003eOpenStreetMap\\u003c/a\\u003e contributors \\u0026copy; \\u003ca href=\\&quot;https://carto.com/attributions\\&quot;\\u003eCARTO\\u003c/a\\u003e&quot;,\n",
              "  &quot;subdomains&quot;: &quot;abcd&quot;,\n",
              "  &quot;detectRetina&quot;: false,\n",
              "  &quot;tms&quot;: false,\n",
              "  &quot;opacity&quot;: 1,\n",
              "}\n",
              "\n",
              "            );\n",
              "        \n",
              "    \n",
              "            tile_layer_4c8a1461d483012e81e3326bcfccc1ff.addTo(map_7e516c436a2c4a755cfc777c7fdd0e2b);\n",
              "        \n",
              "    \n",
              "            var marker_1614c63521281d901eee0104fb28077e = L.marker(\n",
              "                [55.77788079508609, 37.696036770838504],\n",
              "                {\n",
              "}\n",
              "            ).addTo(map_7e516c436a2c4a755cfc777c7fdd0e2b);\n",
              "        \n",
              "    \n",
              "            var marker_91c2a756e9457c45c800e6cc843d56c8 = L.marker(\n",
              "                [55.7662775198685, 37.69935783665245],\n",
              "                {\n",
              "}\n",
              "            ).addTo(map_7e516c436a2c4a755cfc777c7fdd0e2b);\n",
              "        \n",
              "    \n",
              "            var marker_386774dca7b36dcaca2f72bb692c4197 = L.marker(\n",
              "                [55.78265299591496, 37.66489716450275],\n",
              "                {\n",
              "}\n",
              "            ).addTo(map_7e516c436a2c4a755cfc777c7fdd0e2b);\n",
              "        \n",
              "    \n",
              "            var poly_line_4eed8d720f1d64cc861232cd7ddc202b = L.polyline(\n",
              "                [[55.79648338132659, 37.640434276178055], [55.79355168508394, 37.691604082087956], [55.77058799825719, 37.68260566314934], [55.79591226093812, 37.64667921897496], [55.78530402821087, 37.62257033179234]],\n",
              "                {&quot;bubblingMouseEvents&quot;: true, &quot;color&quot;: &quot;gray&quot;, &quot;dashArray&quot;: null, &quot;dashOffset&quot;: null, &quot;fill&quot;: false, &quot;fillColor&quot;: &quot;gray&quot;, &quot;fillOpacity&quot;: 0.2, &quot;fillRule&quot;: &quot;evenodd&quot;, &quot;lineCap&quot;: &quot;round&quot;, &quot;lineJoin&quot;: &quot;round&quot;, &quot;noClip&quot;: false, &quot;opacity&quot;: 1.0, &quot;smoothFactor&quot;: 1.0, &quot;stroke&quot;: true, &quot;weight&quot;: 2}\n",
              "            ).addTo(map_7e516c436a2c4a755cfc777c7fdd0e2b);\n",
              "        \n",
              "    \n",
              "            var poly_line_37b6108d7a87cca4fc8fddd7427bc0cc = L.polyline(\n",
              "                [[55.775083960501625, 37.64021095339891], [55.780459103099616, 37.720540407131]],\n",
              "                {&quot;bubblingMouseEvents&quot;: true, &quot;color&quot;: &quot;gray&quot;, &quot;dashArray&quot;: null, &quot;dashOffset&quot;: null, &quot;fill&quot;: false, &quot;fillColor&quot;: &quot;gray&quot;, &quot;fillOpacity&quot;: 0.2, &quot;fillRule&quot;: &quot;evenodd&quot;, &quot;lineCap&quot;: &quot;round&quot;, &quot;lineJoin&quot;: &quot;round&quot;, &quot;noClip&quot;: false, &quot;opacity&quot;: 1.0, &quot;smoothFactor&quot;: 1.0, &quot;stroke&quot;: true, &quot;weight&quot;: 2}\n",
              "            ).addTo(map_7e516c436a2c4a755cfc777c7fdd0e2b);\n",
              "        \n",
              "    \n",
              "            var polygon_bb7803de061b3370fec3b41f827286e9 = L.polygon(\n",
              "                [[55.78759026687848, 37.63473352129828], [55.78141309605875, 37.62691627735258], [55.77773174962406, 37.61237183937544], [55.76344169638252, 37.62079133762189], [55.77020478260004, 37.633387400145125], [55.78759026687848, 37.63473352129828]],\n",
              "                {&quot;bubblingMouseEvents&quot;: true, &quot;color&quot;: &quot;blue&quot;, &quot;dashArray&quot;: null, &quot;dashOffset&quot;: null, &quot;fill&quot;: true, &quot;fillColor&quot;: &quot;white&quot;, &quot;fillOpacity&quot;: 0.5, &quot;fillRule&quot;: &quot;evenodd&quot;, &quot;lineCap&quot;: &quot;round&quot;, &quot;lineJoin&quot;: &quot;round&quot;, &quot;noClip&quot;: false, &quot;opacity&quot;: 1.0, &quot;smoothFactor&quot;: 1.0, &quot;stroke&quot;: true, &quot;weight&quot;: 2}\n",
              "            ).addTo(map_7e516c436a2c4a755cfc777c7fdd0e2b);\n",
              "        \n",
              "    \n",
              "        var popup_5e1a005897b7eb04b40f72218c772776 = L.popup({\n",
              "  &quot;maxWidth&quot;: &quot;100%&quot;,\n",
              "});\n",
              "\n",
              "        \n",
              "            \n",
              "                var html_ea35efc5d280382f71d87f19b52df2cf = $(`&lt;div id=&quot;html_ea35efc5d280382f71d87f19b52df2cf&quot; style=&quot;width: 100.0%; height: 100.0%;&quot;&gt;Полигон 5&lt;/div&gt;`)[0];\n",
              "                popup_5e1a005897b7eb04b40f72218c772776.setContent(html_ea35efc5d280382f71d87f19b52df2cf);\n",
              "            \n",
              "        \n",
              "\n",
              "        polygon_bb7803de061b3370fec3b41f827286e9.bindPopup(popup_5e1a005897b7eb04b40f72218c772776)\n",
              "        ;\n",
              "\n",
              "        \n",
              "    \n",
              "    \n",
              "            polygon_bb7803de061b3370fec3b41f827286e9.bindTooltip(\n",
              "                `&lt;div&gt;\n",
              "                     5\n",
              "                 &lt;/div&gt;`,\n",
              "                {\n",
              "  &quot;sticky&quot;: true,\n",
              "}\n",
              "            );\n",
              "        \n",
              "    \n",
              "            var polygon_0dface495580ed7be9fcf1315e37093e = L.polygon(\n",
              "                [[55.780872442130416, 37.65700333070336], [55.770115917560794, 37.64001380180104], [55.78218942659777, 37.634740820918005], [55.77230895062503, 37.633460847788555], [55.7680383888515, 37.63246670991639], [55.75860871549395, 37.62635993987862], [55.74920331070407, 37.633218883933715], [55.76324239489289, 37.640897084704065], [55.7562975533716, 37.65549864548966], [55.780872442130416, 37.65700333070336]],\n",
              "                {&quot;bubblingMouseEvents&quot;: true, &quot;color&quot;: &quot;blue&quot;, &quot;dashArray&quot;: null, &quot;dashOffset&quot;: null, &quot;fill&quot;: true, &quot;fillColor&quot;: &quot;white&quot;, &quot;fillOpacity&quot;: 0.5, &quot;fillRule&quot;: &quot;evenodd&quot;, &quot;lineCap&quot;: &quot;round&quot;, &quot;lineJoin&quot;: &quot;round&quot;, &quot;noClip&quot;: false, &quot;opacity&quot;: 1.0, &quot;smoothFactor&quot;: 1.0, &quot;stroke&quot;: true, &quot;weight&quot;: 2}\n",
              "            ).addTo(map_7e516c436a2c4a755cfc777c7fdd0e2b);\n",
              "        \n",
              "    \n",
              "        var popup_c0c79629b4f8c2d59f9c7a768d835f02 = L.popup({\n",
              "  &quot;maxWidth&quot;: &quot;100%&quot;,\n",
              "});\n",
              "\n",
              "        \n",
              "            \n",
              "                var html_e855aa14f3a0a8b92a4cb82f20eb9d5d = $(`&lt;div id=&quot;html_e855aa14f3a0a8b92a4cb82f20eb9d5d&quot; style=&quot;width: 100.0%; height: 100.0%;&quot;&gt;Полигон 6&lt;/div&gt;`)[0];\n",
              "                popup_c0c79629b4f8c2d59f9c7a768d835f02.setContent(html_e855aa14f3a0a8b92a4cb82f20eb9d5d);\n",
              "            \n",
              "        \n",
              "\n",
              "        polygon_0dface495580ed7be9fcf1315e37093e.bindPopup(popup_c0c79629b4f8c2d59f9c7a768d835f02)\n",
              "        ;\n",
              "\n",
              "        \n",
              "    \n",
              "    \n",
              "            polygon_0dface495580ed7be9fcf1315e37093e.bindTooltip(\n",
              "                `&lt;div&gt;\n",
              "                     6\n",
              "                 &lt;/div&gt;`,\n",
              "                {\n",
              "  &quot;sticky&quot;: true,\n",
              "}\n",
              "            );\n",
              "        \n",
              "    \n",
              "            var polygon_3215c64081ff78be68be77fa7290c863 = L.polygon(\n",
              "                [[55.79497809511907, 37.661240161369115], [55.80253219638784, 37.66229155369831], [55.80162179312557, 37.656811255494034], [55.8025822898849, 37.64710056367636], [55.79364368297565, 37.64695954705675], [55.78201721380359, 37.64340103865312], [55.7849357935788, 37.6565741358428], [55.7746985434438, 37.66555914960224], [55.78966560143765, 37.66487886012752], [55.79497809511907, 37.661240161369115]],\n",
              "                {&quot;bubblingMouseEvents&quot;: true, &quot;color&quot;: &quot;blue&quot;, &quot;dashArray&quot;: null, &quot;dashOffset&quot;: null, &quot;fill&quot;: true, &quot;fillColor&quot;: &quot;white&quot;, &quot;fillOpacity&quot;: 0.5, &quot;fillRule&quot;: &quot;evenodd&quot;, &quot;lineCap&quot;: &quot;round&quot;, &quot;lineJoin&quot;: &quot;round&quot;, &quot;noClip&quot;: false, &quot;opacity&quot;: 1.0, &quot;smoothFactor&quot;: 1.0, &quot;stroke&quot;: true, &quot;weight&quot;: 2}\n",
              "            ).addTo(map_7e516c436a2c4a755cfc777c7fdd0e2b);\n",
              "        \n",
              "    \n",
              "        var popup_516cb414ab7dd734e65a201e1e2b5a66 = L.popup({\n",
              "  &quot;maxWidth&quot;: &quot;100%&quot;,\n",
              "});\n",
              "\n",
              "        \n",
              "            \n",
              "                var html_99992a8bb7ebfde325492d866f9ae9d9 = $(`&lt;div id=&quot;html_99992a8bb7ebfde325492d866f9ae9d9&quot; style=&quot;width: 100.0%; height: 100.0%;&quot;&gt;Полигон 7&lt;/div&gt;`)[0];\n",
              "                popup_516cb414ab7dd734e65a201e1e2b5a66.setContent(html_99992a8bb7ebfde325492d866f9ae9d9);\n",
              "            \n",
              "        \n",
              "\n",
              "        polygon_3215c64081ff78be68be77fa7290c863.bindPopup(popup_516cb414ab7dd734e65a201e1e2b5a66)\n",
              "        ;\n",
              "\n",
              "        \n",
              "    \n",
              "    \n",
              "            polygon_3215c64081ff78be68be77fa7290c863.bindTooltip(\n",
              "                `&lt;div&gt;\n",
              "                     7\n",
              "                 &lt;/div&gt;`,\n",
              "                {\n",
              "  &quot;sticky&quot;: true,\n",
              "}\n",
              "            );\n",
              "        \n",
              "    \n",
              "            tile_layer_4c8a1461d483012e81e3326bcfccc1ff.addTo(map_7e516c436a2c4a755cfc777c7fdd0e2b);\n",
              "        \n",
              "&lt;/script&gt;\n",
              "&lt;/html&gt;\" style=\"position:absolute;width:100%;height:100%;left:0;top:0;border:none !important;\" allowfullscreen webkitallowfullscreen mozallowfullscreen></iframe></div></div>"
            ]
          },
          "metadata": {},
          "execution_count": 8
        }
      ],
      "source": [
        "from shapely import wkt\n",
        "from shapely import Point\n",
        "from shapely import Polygon\n",
        "from shapely import LineString\n",
        "import folium\n",
        "import numpy as np\n",
        "m1 = folium.Map(location=[55.865690, 37.652726], control_scale=True,\n",
        "                tiles='Cartodb Positron',\n",
        "                zoom_start=14)\n",
        "\n",
        "file_wkt = open('geom.wkt', 'r')\n",
        "geom_objects = wkt.loads(file_wkt.read())\n",
        "for geom in geom_objects.geoms:\n",
        "    number_geom = list(geom_objects.geoms).index(geom)\n",
        "    if type(geom) == Polygon:\n",
        "        folium.Polygon(\n",
        "            locations=np.array(geom.exterior.coords),\n",
        "            color=\"blue\",\n",
        "            weight=2,\n",
        "            fill_color=\"white\",\n",
        "            fill_opacity=0.5,\n",
        "            fill=True,\n",
        "            popup=\"Полигон \"+str(number_geom),\n",
        "            tooltip=str(number_geom),\n",
        "        ).add_to(m1)\n",
        "    if type(geom) == LineString:\n",
        "        folium.PolyLine(\n",
        "            locations=np.array(geom.coords),\n",
        "            color=\"gray\",\n",
        "            weight=2,\n",
        "        ).add_to(m1)\n",
        "    if type(geom) == Point:\n",
        "        folium.Marker(\n",
        "            location=np.array(geom.coords),\n",
        "        ).add_to(m1)\n",
        "m1.save(\"map.html\")\n",
        "m1\n"
      ]
    },
    {
      "cell_type": "markdown",
      "metadata": {
        "id": "Ap7bX0jzQiRf"
      },
      "source": [
        "## Задание\n",
        "1. Во фрагменте кода ниже добавьте свои ФИО и группу в теге `<h2>`\n",
        "2. Заглянуть в файл `createGeom.py`, ознакомиться с алгоритмом и в последней строке указать другие исходные координаты `startX` и `startY` - выберите точку недалеко от вашего местоположения. При желании можно изменить и параметр `delta`;\n",
        "3. Обновить код в разделе \"Маленький пространственный анализ\" так, чтобы в результат указывались типы обоих объектов (сейчас только у первого).\n",
        "4. Обновить центр `location` и масштаб `zoom_start` карты `folium.Map`, так чтобы объекты были хорошо видны. Обновить код в разделе \"Вывод на карте\" так, чтобы у всех объектов выводились обозначения: только номер (при наведении) и тип с номером (при клике). Сейчас это реализовано только для полигонов, нужно по аналогии добавить для ломаных и точек.\n",
        "5. Не забудьте после всех изменений перезапустить код ниже: он соберет все результаты в отчет. Сохраните файл `result_2.html` и приложите его в СДО как ответ на Задание №2."
      ]
    },
    {
      "cell_type": "code",
      "execution_count": 9,
      "metadata": {
        "id": "cuMY-9F8QiRf"
      },
      "outputs": [],
      "source": [
        "file_html = open(\"result_2.html\", \"w\")\n",
        "page = ('''<html>\n",
        "<body>\n",
        "<h1>Отчет за 2 неделю ознакомительной практики по разработке программного обеспечения геосервиса</h1>\n",
        "<h2>Выполнил: студент группы 2024-ИСиТ-2см: Горбачев П. А. </h2>''')\n",
        "with open('input_and_SA.html', 'r', encoding='utf-8') as f1:\n",
        "    data1 = f1.readlines()\n",
        "for str1 in data1:\n",
        "    page = page + str1\n",
        "with open('map.html', 'r', encoding='utf-8') as f2:\n",
        "    data2 = f2.readlines()\n",
        "for str2 in data2:\n",
        "    page = page + str2\n",
        "page = page + ('''\n",
        "</body>\n",
        "</html>''')\n",
        "file_html.write(page)\n",
        "file_html.close()"
      ]
    },
    {
      "cell_type": "code",
      "execution_count": null,
      "metadata": {
        "id": "na5HZZ4PQiRf"
      },
      "outputs": [],
      "source": []
    }
  ],
  "metadata": {
    "colab": {
      "provenance": [],
      "include_colab_link": true
    },
    "kernelspec": {
      "display_name": "Python 3 (ipykernel)",
      "language": "python",
      "name": "python3"
    },
    "language_info": {
      "codemirror_mode": {
        "name": "ipython",
        "version": 3
      },
      "file_extension": ".py",
      "mimetype": "text/x-python",
      "name": "python",
      "nbconvert_exporter": "python",
      "pygments_lexer": "ipython3",
      "version": "3.10.10"
    }
  },
  "nbformat": 4,
  "nbformat_minor": 0
}