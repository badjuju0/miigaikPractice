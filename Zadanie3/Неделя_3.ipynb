{
  "cells": [
    {
      "cell_type": "markdown",
      "metadata": {
        "id": "view-in-github",
        "colab_type": "text"
      },
      "source": [
        "<a href=\"https://colab.research.google.com/github/badjuju0/miigaikPractice/blob/main/Zadanie3/%D0%9D%D0%B5%D0%B4%D0%B5%D0%BB%D1%8F_3.ipynb\" target=\"_parent\"><img src=\"https://colab.research.google.com/assets/colab-badge.svg\" alt=\"Open In Colab\"/></a>"
      ]
    },
    {
      "cell_type": "markdown",
      "id": "2bcb744d-8360-4821-80e4-9c0472742a4b",
      "metadata": {
        "id": "2bcb744d-8360-4821-80e4-9c0472742a4b"
      },
      "source": [
        "# Неделя 3. Перепроецирование с использованием pyproj\n",
        "## Системы координат. Немного теории\n",
        "\n",
        "*К сожалению, Земля не плоская. А монитор плоский*\n",
        "\n",
        "Почитать краткую теорию про системы координат вообще можно вот здесь https://disk.yandex.ru/i/vY__bZq5vumQoQ . Эта информация не понадобится для выполнения работы напрямую, но облегчит понимание того, что мы вообще делаем и зачем.\n",
        "\n",
        "Большинство карт по умолчанию работают с wgs84 (EPSG:4326 https://epsg.io/4326), когда идет речь о координатах в градусах. Также часто используется EPSG:3857  https://epsg.io/3857, если необходимо описание координат в метрах.\n",
        "\n",
        "Кадастр в РФ работает с координатами характерных точек в местных системах координат (МСК). Местная система координат - это плоская система, взятая как проекция Меркатора к эллипсоиду Красовского. Для того, чтобы минимизировать погрешности определения точек, РФ поделена на зоны картографической проекции, объекты в каждой из которой ставятся на учет в соответствующей этой зоне системе координат. Каждый регион разделен на 3-градусные зоны. Разделение проходит не по прямым, параллельным меридианам, а вдоль кадастрового деления. Что дает нам факт: каждый кадастровый квартал должен содержать внутри объекты в одной системе координат. Внутри квартала не может существовать двух рекомендуемых местных систем координат.\n",
        "\n",
        "### Формат строки proj\n",
        "\n",
        "Существует множество форматов, которые используются для описания референсных систем координат. Наиболее распространенными форматами являются: proj.4, EPSG, формат Well-known Text (WKT).\n",
        "\n",
        "Для работы с pyproj нам необходимо использовать формат proj.4\n",
        "\n",
        "Формат PROJ.4 strings – используют многие программные продукты для обработки пространственных данных, (например Raster, Rgdal, Qgis). Используя PROJ.4 синтаксис, указываетcя полный\n",
        "набор параметров, включая эллипс, датум, единицы проекции и определение проекции, которые определяют конкретную референсную систему координат.\n",
        "Каждый элемент обозначается знаком «+». После каждого «+» задается определяемый элемент.\n",
        "Например +proj= и +datum=.\n",
        "Строка proj4 собирается из отдельных компонентов (разделенные знаком «+»). Например:\n",
        "- proj = utm: проекция UTM\n",
        "- zone = 11: зона 11.\n",
        "- datum = WGS84: начало отсчета относится к опорной точке 0,0 для системы координат,\n",
        "используемой в проекции\n",
        "- units = m: координаты указаны в МЕТРАХ.\n",
        "- ellps = WGS84: эллипсоид для данных - WGS84\n",
        "\n",
        "В результате получаем строку:\n",
        "`+proj=utm +zone=11 +datum=WGS84 +units=m +no_defs +ellps=WGS84 +towgs84=0,0,0 `\n",
        "\n",
        "Для описания других систем координат этих параметров недостаточно, и добавляются следующие:\n",
        "- lat_0 = 0  начало координат осевого меридиана.\n",
        "- lon_0 = 44,55 долгота осевого меридиана.\n",
        "- k = 1 масштаб на осевом меридиане (для проекции Гаусса- Крюгера равен 1)\n",
        "- x_0 = 1250000 ложное отклонение от меридиана к востоку в метрах (False easting)\n",
        "- y_0 =-5614743,504 ложное отклонение от широты к северу в метрах (False northing)\n",
        "  \n",
        "То есть, для пересчета  мы можем использовать строки вида `+proj=tmerc +lat_0=0 +lon_0=44.55 +k=1 +x_0=1250000 +y_0=-5614743.504 +ellps=krass +units=m +no_defs`\n",
        "\n",
        "Почитать подробнее про параметры (на английском) можно вот здесь - https://proj.org/en/9.3/usage/projections.html\n",
        "\n",
        "Для системы координат EPSG:4326 строка параметров выглядит `+proj=longlat +datum=WGS84 +no_defs +type=crs`, а для EPSG:3857 выглядит `+proj=merc +a=6378137 +b=6378137 +lat_ts=0 +lon_0=0 +x_0=0 +y_0=0 +k=1 +units=m +nadgrids=@null +wktext +no_defs +type=crs`\n"
      ]
    },
    {
      "cell_type": "markdown",
      "id": "a5a42451-2284-4400-b7ef-1598ba3e2572",
      "metadata": {
        "id": "a5a42451-2284-4400-b7ef-1598ba3e2572"
      },
      "source": [
        "## Знакомимся с библиотекой proj\n",
        "### Установим библиотеки\n",
        "Если вы выполняли все задания в одной и той же среде, то остальные нужные библиотеки у вас уже установлены.\n",
        "Если какой-то из фрагментов кода не запускается и ругается на отсутствие библиотеки, скопируйте блок с её установкой из предыдущих работ и запустите."
      ]
    },
    {
      "cell_type": "code",
      "execution_count": null,
      "id": "4a791b38-929f-4ee4-9744-e33faea726e2",
      "metadata": {
        "colab": {
          "base_uri": "https://localhost:8080/"
        },
        "id": "4a791b38-929f-4ee4-9744-e33faea726e2",
        "outputId": "63b505d9-a6c3-4a5a-e83a-14b1da4d4e26"
      },
      "outputs": [
        {
          "name": "stdout",
          "output_type": "stream",
          "text": [
            "Defaulting to user installation because normal site-packages is not writeable\n",
            "Requirement already satisfied: pyproj in /opt/tljh/user/lib/python3.10/site-packages (3.6.1)\n",
            "Requirement already satisfied: certifi in /opt/tljh/user/lib/python3.10/site-packages (from pyproj) (2022.12.7)\n"
          ]
        }
      ],
      "source": [
        "!pip install pyproj"
      ]
    },
    {
      "cell_type": "markdown",
      "id": "64bfaca4-0866-4377-9982-ce9ce56e150a",
      "metadata": {
        "id": "64bfaca4-0866-4377-9982-ce9ce56e150a"
      },
      "source": [
        "### Пересчет. Простой случай\n",
        "Если вы используете одно и то же преобразование, использование `pyproj.transformer.Transformer` может помочь оптимизировать ваши преобразования.\n",
        "Системы координат можно описать используя коды EPSG"
      ]
    },
    {
      "cell_type": "code",
      "execution_count": null,
      "id": "4a8a92a4-9acc-4f21-9a57-3d2af27ba3e9",
      "metadata": {
        "colab": {
          "base_uri": "https://localhost:8080/"
        },
        "id": "4a8a92a4-9acc-4f21-9a57-3d2af27ba3e9",
        "outputId": "ae587c28-285f-478b-96d4-363943072e2a"
      },
      "outputs": [
        {
          "data": {
            "text/plain": [
              "(40.766428579394535, -77.24473209793454)"
            ]
          },
          "execution_count": 4,
          "metadata": {},
          "output_type": "execute_result"
        }
      ],
      "source": [
        "import numpy\n",
        "from pyproj import Transformer, transform\n",
        "\n",
        "transformer = Transformer.from_crs(2263, 4326)\n",
        "x_coords = numpy.random.randint(80000, 120000)\n",
        "y_coords = numpy.random.randint(200000, 250000)\n",
        "transformer.transform(x_coords, y_coords)"
      ]
    },
    {
      "cell_type": "markdown",
      "id": "9702b03f-4c32-4f16-ba63-15ecf92af6ad",
      "metadata": {
        "id": "9702b03f-4c32-4f16-ba63-15ecf92af6ad"
      },
      "source": [
        "### Запуск преобразований. Описания параметров преобразования\n",
        "Если хочется исследовать преобразования подробнее, можно почитать вот тут: https://pyproj4.github.io/pyproj/stable/advanced_examples.html\n",
        "\n",
        "https://pyproj4.github.io/pyproj/stable/api/transformer.html\n",
        "\n",
        "`pyproj.transformer.TransformerGroup` предоставляет как доступные, так и отсутствующие преобразования. Полезно, если вы хотите проверить, существует ли наилучшее возможное преобразование. А если нет, то как получить недостающую сетку.\n",
        "Кроме кодов, вы также можете описать систему координат с помощью строки proj."
      ]
    },
    {
      "cell_type": "code",
      "execution_count": null,
      "id": "0e868ff7-f98e-486c-8a48-e070d4758957",
      "metadata": {
        "colab": {
          "base_uri": "https://localhost:8080/"
        },
        "id": "0e868ff7-f98e-486c-8a48-e070d4758957",
        "outputId": "f99633a0-96d5-4f11-9b6f-f57f10453c5e"
      },
      "outputs": [
        {
          "data": {
            "text/plain": [
              "<TransformerGroup: best_available=False>\n",
              "- transformers: 31\n",
              "- unavailable_operations: 48"
            ]
          },
          "execution_count": 5,
          "metadata": {},
          "output_type": "execute_result"
        }
      ],
      "source": [
        "from pyproj.transformer import TransformerGroup\n",
        "tg = TransformerGroup(\"EPSG:4326\", \"+proj=aea +lat_0=50 +lon_0=-154 +lat_1=55 +lat_2=65 +x_0=0 +y_0=0 +datum=NAD27 +no_defs +type=crs +units=m\", always_xy=True)\n",
        "tg"
      ]
    },
    {
      "cell_type": "code",
      "execution_count": null,
      "id": "5756e2b0-4c33-4e09-9877-49ec38ef98d6",
      "metadata": {
        "colab": {
          "base_uri": "https://localhost:8080/",
          "height": 35
        },
        "id": "5756e2b0-4c33-4e09-9877-49ec38ef98d6",
        "outputId": "cac491a8-c7e2-4885-dd84-66e6557f8bd9"
      },
      "outputs": [
        {
          "data": {
            "text/plain": [
              "'axis order change (2D) + Inverse of NAD27 to WGS 84 (3) + axis order change (2D) + unknown'"
            ]
          },
          "execution_count": 6,
          "metadata": {},
          "output_type": "execute_result"
        }
      ],
      "source": [
        "from pyproj.transformer import TransformerGroup\n",
        "tg = TransformerGroup(\"EPSG:4326\", \"+proj=aea +lat_0=50 +lon_0=-154 +lat_1=55 +lat_2=65 +x_0=0 +y_0=0 +datum=NAD27 +no_defs +type=crs +units=m\", always_xy=True)\n",
        "tg.transformers[0].description"
      ]
    },
    {
      "cell_type": "code",
      "execution_count": null,
      "id": "d09bec59-e158-48b6-8970-0d0b073c7c81",
      "metadata": {
        "colab": {
          "base_uri": "https://localhost:8080/",
          "height": 35
        },
        "id": "d09bec59-e158-48b6-8970-0d0b073c7c81",
        "outputId": "ed5f4523-b635-4814-d646-e2b24483c3ef"
      },
      "outputs": [
        {
          "data": {
            "text/plain": [
              "'Inverse of NAD27 to WGS 84 (33) + axis order change (2D) + unknown'"
            ]
          },
          "execution_count": 7,
          "metadata": {},
          "output_type": "execute_result"
        }
      ],
      "source": [
        "from pyproj.transformer import TransformerGroup\n",
        "tg = TransformerGroup(\"EPSG:4326\", \"+proj=aea +lat_0=50 +lon_0=-154 +lat_1=55 +lat_2=65 +x_0=0 +y_0=0 +datum=NAD27 +no_defs +type=crs +units=m\", always_xy=True)\n",
        "tg.unavailable_operations[0].name"
      ]
    },
    {
      "cell_type": "code",
      "execution_count": null,
      "id": "e3b0211c-df83-4f0e-8701-816a8d69c069",
      "metadata": {
        "colab": {
          "base_uri": "https://localhost:8080/",
          "height": 35
        },
        "id": "e3b0211c-df83-4f0e-8701-816a8d69c069",
        "outputId": "2fc2d27b-9d06-4045-af35-c4d8a3153456"
      },
      "outputs": [
        {
          "data": {
            "text/plain": [
              "'https://cdn.proj.org/ca_nrc_ntv2_0.tif'"
            ]
          },
          "execution_count": 8,
          "metadata": {},
          "output_type": "execute_result"
        }
      ],
      "source": [
        "from pyproj.transformer import TransformerGroup\n",
        "tg = TransformerGroup(\"EPSG:4326\", \"+proj=aea +lat_0=50 +lon_0=-154 +lat_1=55 +lat_2=65 +x_0=0 +y_0=0 +datum=NAD27 +no_defs +type=crs +units=m\", always_xy=True)\n",
        "tg.unavailable_operations[0].grids[0].url"
      ]
    },
    {
      "cell_type": "markdown",
      "id": "6d6a4efe-cb2b-403f-acac-8766656199bb",
      "metadata": {
        "id": "6d6a4efe-cb2b-403f-acac-8766656199bb"
      },
      "source": [
        "### Пересчет объекта целиком\n",
        "\n",
        "Для запуска пересчета можно подать точки целым массивом или обратиться ко всем точкам геометрического объекта.\n"
      ]
    },
    {
      "cell_type": "code",
      "execution_count": null,
      "id": "TxwlbLaC6WoP",
      "metadata": {
        "colab": {
          "base_uri": "https://localhost:8080/"
        },
        "id": "TxwlbLaC6WoP",
        "outputId": "d0c13935-9b43-45d2-8584-3d5eb4d84ada"
      },
      "outputs": [
        {
          "name": "stdout",
          "output_type": "stream",
          "text": [
            "Пересчет из EPSG:4326 (градусная wgs84) в EPSG:2100: \n",
            "\n",
            "(2221638.800587292, 2637034.3720682357)\n",
            "(2212924.124633719, 2619851.898196797)\n",
            "(2238294.779022731, 2703763.7362801754)\n",
            "\n",
            " Пересчет из EPSG:4326 в некую МСК: \n",
            "\n",
            "(-583310.9199796189, -884216.8687568726)\n",
            "(-598165.1278206981, -892327.415623053)\n",
            "(-529065.0846791547, -870617.2738845842)\n",
            "\n",
            " Пересчет из EPSG:4326 в некую МСК, с обращением к полигону: \n",
            "\n",
            "(817904.9069238179, 589149.9011352416)\n",
            "(817860.4380617549, 589190.2314159079)\n",
            "(817826.7826442412, 589159.0516230008)\n",
            "(817843.0544412159, 589097.8743061014)\n",
            "(817877.7431213218, 589105.8481806554)\n",
            "(817904.9069238179, 589149.9011352416)\n"
          ]
        }
      ],
      "source": [
        "from pyproj import Transformer\n",
        "from shapely.geometry import LineString, Point, Polygon\n",
        "transformer = Transformer.from_crs(4326, 2100)\n",
        "points = [(22.95, 40.63), (22.81, 40.53), (23.51, 40.86)]\n",
        "print(\"Пересчет из EPSG:4326 (градусная wgs84) в EPSG:2100: \\n\")\n",
        "for pt in transformer.itransform(points):\n",
        "  print(pt)\n",
        "print(\"\\n Пересчет из EPSG:4326 в некую МСК: \\n\")\n",
        "transproj_eq = Transformer.from_crs(\n",
        "    'EPSG:4326',\n",
        "    '+proj=tmerc +lat_0=0 +lon_0=44.55 +k=1 +x_0=1250000 +y_0=-5614743.504 +ellps=krass +units=m +no_defs',\n",
        "    always_xy=True,\n",
        ")\n",
        "for pt in transproj_eq.itransform(points):\n",
        "    print(pt)\n",
        "print(\"\\n Пересчет из EPSG:4326 в некую МСК, с обращением к полигону: \\n\")\n",
        "pol =     Polygon(\n",
        "        LineString([\n",
        "            Point(37.660516, 55.763809), Point(37.659749, 55.764129), Point(37.659266, 55.763821), Point(37.65962, 55.76329), Point(37.660156, 55.763392), Point(37.660516, 55.763809)\n",
        "        ])\n",
        "    )\n",
        "for point in transproj_eq.itransform(pol.exterior.coords):\n",
        "  print(point)"
      ]
    },
    {
      "cell_type": "markdown",
      "id": "ea675250-0dc9-4b12-9ea6-e14b05a49710",
      "metadata": {
        "id": "ea675250-0dc9-4b12-9ea6-e14b05a49710"
      },
      "source": [
        "### Методы для вычисления периметра и площади\n",
        "А еще эта библиотека позволяет встроенными методами считать площадь и периметр объектов, опираясь на выбранный эллипсоид."
      ]
    },
    {
      "cell_type": "code",
      "execution_count": null,
      "id": "d1b1a7bb-d5f7-44b4-be5a-a947f6a2ac9b",
      "metadata": {
        "colab": {
          "base_uri": "https://localhost:8080/",
          "height": 176
        },
        "id": "d1b1a7bb-d5f7-44b4-be5a-a947f6a2ac9b",
        "outputId": "aba49ded-657c-46d1-cc6a-241976d45116"
      },
      "outputs": [
        {
          "name": "stdout",
          "output_type": "stream",
          "text": [
            "Площадь полигона с дыркой: 3801.29 кв. метров, периметр полигона: 255.97 метров. \n",
            "<svg xmlns=\"http://www.w3.org/2000/svg\" xmlns:xlink=\"http://www.w3.org/1999/xlink\" width=\"100.0\" height=\"100.0\" viewBox=\"37.659216 55.763239999999996 0.0013500000000021828 0.0009390000000024656\" preserveAspectRatio=\"xMinYMin meet\"><g transform=\"matrix(1,0,0,-1,0,111.527419)\"><path fill-rule=\"evenodd\" fill=\"#66cc99\" stroke=\"#555555\" stroke-width=\"2.7000000000043655e-05\" opacity=\"0.6\" d=\"M 37.660516,55.763809 L 37.659749,55.764129 L 37.659266,55.763821 L 37.65962,55.76329 L 37.660156,55.763392 L 37.660516,55.763809 z M 37.659878,55.763917 L 37.660221,55.763803 L 37.659802,55.763507 L 37.659878,55.763917 z\" /></g></svg>\n"
          ]
        },
        {
          "data": {
            "text/html": [
              "<svg xmlns=\"http://www.w3.org/2000/svg\" xmlns:xlink=\"http://www.w3.org/1999/xlink\" width=\"100.0\" height=\"100.0\" viewBox=\"37.659216 55.763239999999996 0.0013500000000021828 0.0009390000000024656\" preserveAspectRatio=\"xMinYMin meet\"><g transform=\"matrix(1,0,0,-1,0,111.527419)\"><path fill-rule=\"evenodd\" fill=\"#66cc99\" stroke=\"#555555\" stroke-width=\"2.7000000000043655e-05\" opacity=\"0.6\" d=\"M 37.660516,55.763809 L 37.659749,55.764129 L 37.659266,55.763821 L 37.65962,55.76329 L 37.660156,55.763392 L 37.660516,55.763809 z M 37.659878,55.763917 L 37.660221,55.763803 L 37.659802,55.763507 L 37.659878,55.763917 z\" /></g></svg>"
            ],
            "text/plain": [
              "<IPython.core.display.HTML object>"
            ]
          },
          "metadata": {},
          "output_type": "display_data"
        }
      ],
      "source": [
        "from pyproj import Geod\n",
        "from shapely.geometry import LineString, Point, Polygon\n",
        "from IPython.display import HTML, display\n",
        "geod = Geod(ellps=\"WGS84\")\n",
        "pol =     Polygon(\n",
        "        LineString([\n",
        "            Point(37.660516, 55.763809), Point(37.659749, 55.764129), Point(37.659266, 55.763821), Point(37.65962, 55.76329), Point(37.660156, 55.763392), Point(37.660516, 55.763809)\n",
        "        ]),\n",
        "        holes=[LineString([Point(37.659878, 55.763917), Point(37.660221, 55.763803), Point(37.659802, 55.763507), Point(37.659878, 55.763917)])],\n",
        "    )\n",
        "poly_area, poly_perimeter = geod.geometry_area_perimeter(pol)\n",
        "s = \"Площадь полигона с дыркой: \" + str(round(poly_area, 2)) + \" кв. метров, периметр полигона: \" + str(round(poly_perimeter, 2)) + \" метров. \"\n",
        "print(s)\n",
        "html_pol =pol._repr_svg_()\n",
        "print(html_pol)\n",
        "display(HTML(html_pol))"
      ]
    },
    {
      "cell_type": "markdown",
      "id": "6mweEuMy-B_X",
      "metadata": {
        "id": "6mweEuMy-B_X"
      },
      "source": [
        "## Приступим!\n",
        "В следующем фрагменте кода реализована генерация псевдослучайного полигона вокруг стартовой точки. И заложена основа для формирования отчета.\n",
        "Последняя строка выводит картинку получившегося полигона ниже кода, и нужна только для отладки. На файл отчета она не влияет."
      ]
    },
    {
      "cell_type": "code",
      "execution_count": 1,
      "id": "769V34gZ-F2G",
      "metadata": {
        "colab": {
          "base_uri": "https://localhost:8080/",
          "height": 122
        },
        "id": "769V34gZ-F2G",
        "outputId": "e092f893-b585-4df8-bfc3-49b5f55d82c9"
      },
      "outputs": [
        {
          "output_type": "display_data",
          "data": {
            "text/plain": [
              "<IPython.core.display.HTML object>"
            ],
            "text/html": [
              "<svg xmlns=\"http://www.w3.org/2000/svg\" xmlns:xlink=\"http://www.w3.org/1999/xlink\" width=\"100.0\" height=\"100.0\" viewBox=\"55.86307131617457 37.658817521134694 0.0030633305955092283 0.003273224061196345\" preserveAspectRatio=\"xMinYMin meet\"><g transform=\"matrix(1,0,0,-1,0,75.32090826633058)\"><path fill-rule=\"evenodd\" fill=\"#66cc99\" stroke=\"#555555\" stroke-width=\"6.54644812239269e-05\" opacity=\"0.6\" d=\"M 55.866013416249295,37.66170676499185 L 55.864965559621034,37.66196951467511 L 55.864390444237976,37.66105850847129 L 55.86356367502869,37.66133107618753 L 55.86386036911403,37.660629 L 55.86319254669535,37.65965728329495 L 55.86434027899479,37.66004509878559 L 55.86507919497866,37.65893875165548 L 55.86591935153696,37.65961957702205 L 55.866013416249295,37.66170676499185 z\" /></g></svg>"
            ]
          },
          "metadata": {}
        }
      ],
      "source": [
        "from pyproj import Geod\n",
        "from shapely.geometry import LineString, Point, Polygon\n",
        "from pyproj import Transformer\n",
        "from IPython.display import HTML, display\n",
        "import random\n",
        "import math\n",
        "# задаем стартовую точку\n",
        "startPoint = Point(55.864530, 37.660629)\n",
        "# генерация полигона - начало\n",
        "lst = []\n",
        "j = 1\n",
        "count_p = 10 + round(7*random.random())\n",
        "center_x = startPoint.x\n",
        "center_y = startPoint.y\n",
        "while j < count_p:\n",
        "    radius = 0.0021*(0.1+random.random())\n",
        "    angle = j*2*math.pi/count_p\n",
        "    lat = (center_x+radius*math.cos(angle))\n",
        "    lon = (center_y+radius*math.sin(angle))\n",
        "    lst.append([lat, lon])\n",
        "    j = j+1\n",
        "polygon = Polygon(lst)\n",
        "# генерация полигона - конец\n",
        "result_html='''<html>\n",
        "    <body>\n",
        "      <h1>Отчет за 3 неделю ознакомительной практики по разработке программного обеспечения геосервиса</h1>\n",
        "      <h2>Выполнил: студент группы 2024-ИСиТ-1см: Горбачев  П.А.</h2>'''\n",
        "      # здесь вставить формирование svg\n",
        "svg = polygon._repr_svg_()\n",
        "# записать полученное svg в конце result_html\n",
        "result_html += \"<h3>Полигон в формате .svg</h3>\" + svg\n",
        "  # здесь вставить подсчет площади и подсчет периметра\n",
        "geod = Geod(ellps=\"WGS84\")\n",
        "area, perimeter = geod.geometry_area_perimeter(polygon)\n",
        "# записать площадь и периметр в конце result_html\n",
        "result_html += f\"<h3>Площадь полигона:</h3> {abs(area):.2f} м²\"\n",
        "result_html += f\"<h3>Периметр полигона:</h3> {perimeter:.2f} м\"\n",
        "  # здесь вставить пересчет всех точек\n",
        "transformer = Transformer.from_crs(\"EPSG:4326\", \"EPSG:3857\", always_xy=True)\n",
        "transformed_coords = [transformer.transform(x, y) for x, y in polygon.exterior.coords]\n",
        "# записать сведения о системе координат и координаты пересчитанных точек в конце result_html\n",
        "result_html += \"<h3>Пересчет координат</h3>\"\n",
        "result_html += \"<p>Исходная система: EPSG:4326<br>Целевая система: EPSG:3857</p>\"\n",
        "result_html += \"<pre>\" + str(transformed_coords) + \"</pre>\"\n",
        "\n",
        "result_html = result_html + ('''\n",
        "    </body>\n",
        "</html>''')\n",
        "file_html = open(\"result_3.html\", \"w\")\n",
        "file_html.write(result_html)\n",
        "file_html.close()\n",
        "display(HTML(polygon._repr_svg_()))\n"
      ]
    },
    {
      "cell_type": "markdown",
      "id": "bVPJL_XVIdUQ",
      "metadata": {
        "id": "bVPJL_XVIdUQ"
      },
      "source": [
        "### Задание\n",
        "1. Добавить титул с названием отчета, ФИО и группой\n",
        "2. Изменить стартовую точку на ваше текущее местоположение. Добавить в отчет картинку полигона (svg)\n",
        "3. Добавить в формируемый отчет подсчет площади и подсчет периметра генерируемого полигона\n",
        "4. Добавить в отчет указание целевой системы координат и массив пересчитанных точек. По умолчанию пересчитываем из EPSG:4326 в EPSG:3857\n",
        "5. Для выполнения пунктов 2-4 вносите изменения в предыдущий блок кода. Результат будет сохранен в файл `result_3.html`, его и приложить в СДО."
      ]
    },
    {
      "cell_type": "code",
      "execution_count": null,
      "id": "H4h5eL0CEm29",
      "metadata": {
        "id": "H4h5eL0CEm29"
      },
      "outputs": [],
      "source": []
    }
  ],
  "metadata": {
    "colab": {
      "provenance": [],
      "toc_visible": true,
      "include_colab_link": true
    },
    "kernelspec": {
      "display_name": "Python 3 (ipykernel)",
      "language": "python",
      "name": "python3"
    },
    "language_info": {
      "codemirror_mode": {
        "name": "ipython",
        "version": 3
      },
      "file_extension": ".py",
      "mimetype": "text/x-python",
      "name": "python",
      "nbconvert_exporter": "python",
      "pygments_lexer": "ipython3",
      "version": "3.10.10"
    }
  },
  "nbformat": 4,
  "nbformat_minor": 5
}